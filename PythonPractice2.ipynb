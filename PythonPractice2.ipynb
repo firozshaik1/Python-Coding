{
 "cells": [
  {
   "cell_type": "markdown",
   "id": "2ce94abc",
   "metadata": {},
   "source": [
    "## Functions"
   ]
  },
  {
   "cell_type": "code",
   "execution_count": 1,
   "id": "8c15f6bc",
   "metadata": {},
   "outputs": [
    {
     "name": "stdout",
     "output_type": "stream",
     "text": [
      "hello firoz\n"
     ]
    }
   ],
   "source": [
    "def myfunction():\n",
    "    print('hello firoz')\n",
    "myfunction()"
   ]
  },
  {
   "cell_type": "code",
   "execution_count": 2,
   "id": "7d2ee5bf",
   "metadata": {},
   "outputs": [
    {
     "name": "stdout",
     "output_type": "stream",
     "text": [
      "name :  Firoz\n",
      "id :  433\n",
      "adress :  Rajampet\n"
     ]
    }
   ],
   "source": [
    "def details(name,id,adress):\n",
    "    print('name : ',name)\n",
    "    print('id : ',id)\n",
    "    print('adress : ',adress)\n",
    "details('Firoz',433,'Rajampet')"
   ]
  },
  {
   "cell_type": "code",
   "execution_count": 3,
   "id": "fb4a4fa2",
   "metadata": {},
   "outputs": [
    {
     "name": "stdout",
     "output_type": "stream",
     "text": [
      "square of  5 is 25\n"
     ]
    }
   ],
   "source": [
    "def square(n):\n",
    "    i=n**2\n",
    "    print('square of ',n,'is',i)\n",
    "square(5)"
   ]
  },
  {
   "cell_type": "code",
   "execution_count": 4,
   "id": "7bc9a957",
   "metadata": {},
   "outputs": [
    {
     "name": "stdout",
     "output_type": "stream",
     "text": [
      "3  is odd number\n",
      "4  is even number\n",
      "this function is used to check given number is odd or even\n"
     ]
    }
   ],
   "source": [
    "def even_odd(num): \n",
    "    \"\"\"this function is used to check given number is odd or even\"\"\"\n",
    "    if num % 2 ==0:\n",
    "        print (num, ' is even number')\n",
    "    else:\n",
    "        print (num, ' is odd number')\n",
    "even_odd(3)\n",
    "even_odd(4)\n",
    "print(even_odd.__doc__)"
   ]
  },
  {
   "cell_type": "code",
   "execution_count": 5,
   "id": "6540db0b",
   "metadata": {},
   "outputs": [
    {
     "name": "stdout",
     "output_type": "stream",
     "text": [
      "shaik firoz \n"
     ]
    }
   ],
   "source": [
    "def fullname(firstname,lastname):              \n",
    "    fullname = \"{} {} \".format(firstname,lastname)\n",
    "    print (fullname)\n",
    "fullname('shaik' , 'firoz')"
   ]
  },
  {
   "cell_type": "code",
   "execution_count": 6,
   "id": "0f1b8bcc",
   "metadata": {},
   "outputs": [
    {
     "name": "stdout",
     "output_type": "stream",
     "text": [
      "shaik king firoz \n"
     ]
    }
   ],
   "source": [
    "def fullname(firstname,middlename,lastname):\n",
    "    fullname=('{} {} {} '.format(firstname,middlename,lastname))\n",
    "    print(fullname)\n",
    "fullname(firstname=\"shaik\",lastname='firoz',middlename='king')"
   ]
  },
  {
   "cell_type": "code",
   "execution_count": 7,
   "id": "191f785d",
   "metadata": {},
   "outputs": [
    {
     "name": "stdout",
     "output_type": "stream",
     "text": [
      "my city is :  Rajampet\n"
     ]
    }
   ],
   "source": [
    "def myfunc(city='Rajampet'):\n",
    "    print('my city is : ',city)\n",
    "myfunc()\n",
    "var=100 #variable with global scope"
   ]
  },
  {
   "cell_type": "code",
   "execution_count": 8,
   "id": "d35f9271",
   "metadata": {},
   "outputs": [
    {
     "name": "stdout",
     "output_type": "stream",
     "text": [
      "100\n",
      "100\n"
     ]
    }
   ],
   "source": [
    "def myfun():\n",
    "    print(var)\n",
    "myfun()\n",
    "print(var)"
   ]
  },
  {
   "cell_type": "code",
   "execution_count": 9,
   "id": "3bff54ae",
   "metadata": {},
   "outputs": [
    {
     "name": "stdout",
     "output_type": "stream",
     "text": [
      "120\n"
     ]
    }
   ],
   "source": [
    "def myfunct():\n",
    "    var1=120\n",
    "    print(var1)\n",
    "myfunct()"
   ]
  },
  {
   "cell_type": "code",
   "execution_count": 10,
   "id": "6bbf8987",
   "metadata": {},
   "outputs": [
    {
     "name": "stdout",
     "output_type": "stream",
     "text": [
      "100\n",
      "99\n"
     ]
    }
   ],
   "source": [
    "var=99\n",
    "def myfunc():\n",
    "    var=100\n",
    "    print(var)\n",
    "myfunc()\n",
    "print(var)"
   ]
  },
  {
   "cell_type": "code",
   "execution_count": 11,
   "id": "47d3908c",
   "metadata": {},
   "outputs": [
    {
     "name": "stdout",
     "output_type": "stream",
     "text": [
      "list1 before calling a function  [10, 20, 30, 40, 50]\n",
      "list1 after calling a function  [10, 20, 30, 40, 50, 100]\n"
     ]
    }
   ],
   "source": [
    "list1=[10,20,30,40,50]\n",
    "def mylist(list1):\n",
    "    list1.append(100)\n",
    "print(\"list1 before calling a function \",list1)\n",
    "mylist(list1)\n",
    "print(\"list1 after calling a function \",list1)"
   ]
  },
  {
   "cell_type": "code",
   "execution_count": 12,
   "id": "c38913da",
   "metadata": {},
   "outputs": [
    {
     "name": "stdout",
     "output_type": "stream",
     "text": [
      "before calling a function list1 is  [10, 20, 30, 40, 50, 100]\n",
      "after calling a function list1 is  [10, 20, 30, 40, 50, 100]\n"
     ]
    }
   ],
   "source": [
    "def mylist(list1):\n",
    "    list1=[10,100,1000,10000]\n",
    "print('before calling a function list1 is ',list1)\n",
    "mylist(list1)\n",
    "print('after calling a function list1 is ',list1)"
   ]
  },
  {
   "cell_type": "code",
   "execution_count": 13,
   "id": "2b965f78",
   "metadata": {},
   "outputs": [
    {
     "name": "stdout",
     "output_type": "stream",
     "text": [
      "before swapping a=10 b=20\n",
      "after swapping a=20 b=10\n"
     ]
    }
   ],
   "source": [
    "a=10\n",
    "b=20\n",
    "def swap(a,b):\n",
    "    temp=a\n",
    "    a=b\n",
    "    b=temp\n",
    "    print('after swapping a={} b={}'.format(a,b))\n",
    "print('before swapping a={} b={}'.format(a,b))\n",
    "swap(a,b)\n"
   ]
  },
  {
   "cell_type": "code",
   "execution_count": 14,
   "id": "0f235b37",
   "metadata": {},
   "outputs": [
    {
     "data": {
      "text/plain": [
       "3628800"
      ]
     },
     "execution_count": 14,
     "metadata": {},
     "output_type": "execute_result"
    }
   ],
   "source": [
    "def factorial(num):                    # Calculate factorial of a number using recursive function c\n",
    "    if num <=1 :\n",
    "        return 1\n",
    "    else:\n",
    "        return num * factorial(num-1)\n",
    "        \n",
    "factorial(10)"
   ]
  },
  {
   "cell_type": "code",
   "execution_count": 15,
   "id": "d2362712",
   "metadata": {},
   "outputs": [
    {
     "data": {
      "text/plain": [
       "6"
      ]
     },
     "execution_count": 15,
     "metadata": {},
     "output_type": "execute_result"
    }
   ],
   "source": [
    "def add(num):                           # Sum of first n natural numbers\n",
    "    if num <= 0:\n",
    "        return 0\n",
    "    else:\n",
    "        return num + add(num-1)\n",
    "add(3)    "
   ]
  },
  {
   "cell_type": "code",
   "execution_count": 16,
   "id": "dd94512b",
   "metadata": {},
   "outputs": [
    {
     "name": "stdout",
     "output_type": "stream",
     "text": [
      "How many fibonacci numbers you want to generate -10\n",
      "0\n",
      "1\n",
      "1\n",
      "2\n",
      "3\n",
      "5\n",
      "8\n",
      "13\n",
      "21\n",
      "34\n"
     ]
    }
   ],
   "source": [
    "def fibonacci(num):\n",
    "    if num <= 1:\n",
    "        return 0\n",
    "    if num == 2:\n",
    "        return 1\n",
    "    else: \n",
    "        return(fibonacci(num-1) + fibonacci(num-2)) \n",
    "nums = int(input(\"How many fibonacci numbers you want to generate -\"))\n",
    "for i in range(1,nums+1):\n",
    "    print(fibonacci(i))  "
   ]
  },
  {
   "cell_type": "code",
   "execution_count": 17,
   "id": "004d66f9",
   "metadata": {},
   "outputs": [
    {
     "name": "stdout",
     "output_type": "stream",
     "text": [
      "60\n"
     ]
    }
   ],
   "source": [
    "def add(a,b,c):\n",
    "    return a+b+c\n",
    " \n",
    "print(add(10,20,30))"
   ]
  },
  {
   "cell_type": "code",
   "execution_count": 18,
   "id": "2c4717cc",
   "metadata": {},
   "outputs": [
    {
     "data": {
      "text/plain": [
       "'This will throw below error as this function will only take\\nIf we want to make argument list dynamic then *args wil come in picture'"
      ]
     },
     "execution_count": 18,
     "metadata": {},
     "output_type": "execute_result"
    }
   ],
   "source": [
    "#print(add(1,2,3,4)) \n",
    "'''This will throw below error as this function will only take\n",
    "If we want to make argument list dynamic then *args wil come in picture'''"
   ]
  },
  {
   "cell_type": "code",
   "execution_count": 19,
   "id": "2d0fc05d",
   "metadata": {},
   "outputs": [
    {
     "name": "stdout",
     "output_type": "stream",
     "text": [
      "arg_1: 1\n",
      "arg_2: 2\n",
      "arg_3: 3\n"
     ]
    }
   ],
   "source": [
    "def some_args(arg_1, arg_2, arg_3):\n",
    "    print(\"arg_1:\", arg_1)\n",
    "    print(\"arg_2:\", arg_2)\n",
    "    print(\"arg_3:\", arg_3)\n",
    "my_list = [2, 3]\n",
    "some_args(1, *my_list)"
   ]
  },
  {
   "cell_type": "code",
   "execution_count": 20,
   "id": "992219d3",
   "metadata": {},
   "outputs": [
    {
     "name": "stdout",
     "output_type": "stream",
     "text": [
      "6\n",
      "10\n",
      "15\n",
      "21\n",
      "28\n"
     ]
    }
   ],
   "source": [
    "def add1(*args):\n",
    "    return sum(args)\n",
    "\n",
    "print(add1(1,2,3))\n",
    "print(add1(1,2,3,4))          # *args will take dynamic argument list. So add() function \n",
    "print(add1(1,2,3,4,5))\n",
    "print(add1(1,2,3,4,5,6))\n",
    "print(add1(1,2,3,4,5,6,7))"
   ]
  },
  {
   "cell_type": "code",
   "execution_count": 21,
   "id": "9bf9f202",
   "metadata": {},
   "outputs": [
    {
     "data": {
      "text/plain": [
       "(28, 28)"
      ]
     },
     "execution_count": 21,
     "metadata": {},
     "output_type": "execute_result"
    }
   ],
   "source": [
    "list1 = [1,2,3,4,5,6,7]\n",
    "tuple1 = (1,2,3,4,5,6,7)\n",
    "add1(*list1) , add1(*tuple1)  #tuple & list items will be passed as argument list"
   ]
  },
  {
   "cell_type": "code",
   "execution_count": 22,
   "id": "4fa7d2ca",
   "metadata": {},
   "outputs": [
    {
     "data": {
      "text/plain": [
       "112"
      ]
     },
     "execution_count": 22,
     "metadata": {},
     "output_type": "execute_result"
    }
   ],
   "source": [
    "list1 = [1,2,3,4,5,6,7]\n",
    "list2 = [1,2,3,4,5,6,7]\n",
    "list3 = [1,2,3,4,5,6,7]\n",
    "list4 = [1,2,3,4,5,6,7]\n",
    "add1(*list1 , *list2 , *list3 , *list4 )   #All four lists are unpacked a"
   ]
  },
  {
   "cell_type": "code",
   "execution_count": 23,
   "id": "6cb8bd97",
   "metadata": {},
   "outputs": [
    {
     "name": "stdout",
     "output_type": "stream",
     "text": [
      "('Firoz', 433, 'Rajampet', 516115, 'Indian', 'Telugu')\n"
     ]
    },
    {
     "data": {
      "text/plain": [
       "' For the above example we have no idea about the parameters passed e.g 433 , \\n In such cases we can take help of Keyworded arguments (**kwargs) '"
      ]
     },
     "execution_count": 23,
     "metadata": {},
     "output_type": "execute_result"
    }
   ],
   "source": [
    "def UserDetails(*args):\n",
    "    print(args)\n",
    "UserDetails('Firoz' ,433,'Rajampet',516115, 'Indian' , 'Telugu')\n",
    "''' For the above example we have no idea about the parameters passed e.g 433 , \n",
    " In such cases we can take help of Keyworded arguments (**kwargs) '''"
   ]
  },
  {
   "cell_type": "code",
   "execution_count": 24,
   "id": "7a397e24",
   "metadata": {},
   "outputs": [
    {
     "name": "stdout",
     "output_type": "stream",
     "text": [
      "{'Name': 'Firoz', 'ID': 433, 'Pincode': 516115, 'Age': 22, 'Country': 'India', 'Language': 'Telugu'}\n"
     ]
    }
   ],
   "source": [
    "def UserDetails(**kwargs):\n",
    "    print(kwargs)\n",
    "UserDetails(Name='Firoz', ID=433, Pincode=516115, Age=22, Country='India', Language='Telugu')"
   ]
  },
  {
   "cell_type": "code",
   "execution_count": 25,
   "id": "ef7f0a9f",
   "metadata": {},
   "outputs": [
    {
     "name": "stdout",
     "output_type": "stream",
     "text": [
      "Name :-Firoz\n",
      "ID :-433\n",
      "Pincode :-516115\n",
      "Age :-22\n",
      "Country :-India\n"
     ]
    }
   ],
   "source": [
    "def UserDetails(**kwargs):\n",
    "    for key,val in kwargs.items():\n",
    "        print(\"{} :-{}\".format(key,val))\n",
    "UserDetails(Name='Firoz',ID=433,Pincode=516115,Age=22,Country= 'India')"
   ]
  },
  {
   "cell_type": "code",
   "execution_count": 26,
   "id": "41dfbd4f",
   "metadata": {},
   "outputs": [
    {
     "name": "stdout",
     "output_type": "stream",
     "text": [
      "Name :-Firoz\n",
      "ID :-433\n",
      "Pincode :-516115\n",
      "Age :-22\n",
      "Country :-India\n"
     ]
    }
   ],
   "source": [
    "mydict = {'Name': 'Firoz', 'ID': 433, 'Pincode': 516115, 'Age': 22, 'Country': 'India'}\n",
    "UserDetails(**mydict)"
   ]
  },
  {
   "cell_type": "code",
   "execution_count": 27,
   "id": "e4466d20",
   "metadata": {},
   "outputs": [
    {
     "name": "stdout",
     "output_type": "stream",
     "text": [
      "License No :-  BHT145\n",
      "Full Name :- Firoz\n",
      "Phone Number:-  1234567890\n",
      "Name :- Firoz\n",
      "ID :- 433\n",
      "Pincode :- 516115\n",
      "Age :- 22\n",
      "Country :- India\n",
      "Full Name :- Firoz \n",
      "Phone Number:-  1234567890\n",
      "Name :- Firoz\n",
      "ID :- 433\n",
      "Pincode :- 516115\n",
      "Age :- 22\n",
      "Country :- India\n",
      "Full Name :- Firoz shaik\n",
      "Phone Number:-  1234567890\n",
      "Name :- Firoz\n",
      "ID :- 433\n",
      "Pincode :- 516115\n",
      "Age :- 22\n",
      "Country :- India\n",
      "Full Name :- Firoz shaik \n",
      "Phone Number:-  1234567890\n",
      "Name :- Firoz\n",
      "ID :- 433\n",
      "Pincode :- 516115\n",
      "Age :- 22\n",
      "Country :- India\n",
      "Full Name :- Firoz shaik fir\n",
      "Phone Number:-  1234567890\n",
      "Name :- Firoz\n",
      "ID :- 433\n",
      "Pincode :- 516115\n",
      "Age :- 22\n",
      "Country :- India\n"
     ]
    }
   ],
   "source": [
    "def UserDetails(licenseNo, *args , phoneNo=0 , **kwargs):  \n",
    "    print('License No :- ', licenseNo)\n",
    "    j=''\n",
    "    for i in args:\n",
    "        j = j+i\n",
    "        print('Full Name :-',j)\n",
    "        print('Phone Number:- ',phoneNo)\n",
    "        for key,val in kwargs.items():\n",
    "            print(\"{} :- {}\".format(key,val))\n",
    " \n",
    " \n",
    "name = ['Firoz' , ' ' , 'shaik' , ' ','fir']\n",
    "mydict = {'Name': 'Firoz', 'ID': 433, 'Pincode': 516115, 'Age': 22, 'Country': 'India'}\n",
    "UserDetails('BHT145' , *name , phoneNo=1234567890,**mydict )"
   ]
  },
  {
   "cell_type": "code",
   "execution_count": 28,
   "id": "f8c0fdb6",
   "metadata": {},
   "outputs": [
    {
     "name": "stdout",
     "output_type": "stream",
     "text": [
      "15\n"
     ]
    }
   ],
   "source": [
    "addition = lambda a : a + 10                   # This lambda function adds value 10 to an argument\n",
    "print(addition(5))"
   ]
  },
  {
   "cell_type": "code",
   "execution_count": 29,
   "id": "7c4c9efb",
   "metadata": {},
   "outputs": [
    {
     "name": "stdout",
     "output_type": "stream",
     "text": [
      "30\n"
     ]
    }
   ],
   "source": [
    "product = lambda a, b : a * b          #This lambda function takes two arguments (a,b) \n",
    "print(product(5, 6))"
   ]
  },
  {
   "cell_type": "code",
   "execution_count": 30,
   "id": "a991c0c8",
   "metadata": {},
   "outputs": [
    {
     "name": "stdout",
     "output_type": "stream",
     "text": [
      "13\n"
     ]
    }
   ],
   "source": [
    "addition = lambda a, b, c : a + b + c    #This lambda function takes three argument\n",
    "print(addition(5, 6, 2))"
   ]
  },
  {
   "cell_type": "code",
   "execution_count": 31,
   "id": "6f17f1cd",
   "metadata": {},
   "outputs": [
    {
     "data": {
      "text/plain": [
       "(30, 100, 280)"
      ]
     },
     "execution_count": 31,
     "metadata": {},
     "output_type": "execute_result"
    }
   ],
   "source": [
    "res = (lambda *args: sum(args))             # This lambda function can take any number\n",
    "res(10,20) , res(10,20,30,40) , res(10,20,30,40,50,60,70)"
   ]
  },
  {
   "cell_type": "code",
   "execution_count": 32,
   "id": "0de9f95d",
   "metadata": {},
   "outputs": [
    {
     "data": {
      "text/plain": [
       "(60, 150)"
      ]
     },
     "execution_count": 32,
     "metadata": {},
     "output_type": "execute_result"
    }
   ],
   "source": [
    "res1 = (lambda **kwargs: sum(kwargs.values()))                            \n",
    "res1(a = 10 , b= 20 , c = 30) , res1(a = 10 , b= 20 , c = 30, d = 40 , e = 50)"
   ]
  },
  {
   "cell_type": "code",
   "execution_count": 33,
   "id": "f2d0c67f",
   "metadata": {},
   "outputs": [
    {
     "data": {
      "text/plain": [
       "(6000, 12000000)"
      ]
     },
     "execution_count": 33,
     "metadata": {},
     "output_type": "execute_result"
    }
   ],
   "source": [
    "# This lambda function can take any number of arguments and return thier product.\n",
    "import math\n",
    "res1 = (lambda **kwargs:math.prod(kwargs.values()))                             \n",
    "res1(a = 10 , b= 20 , c = 30) , res1(a = 10 , b= 20 , c = 30, d = 40 , e = 50)"
   ]
  },
  {
   "cell_type": "code",
   "execution_count": 34,
   "id": "0eb647f0",
   "metadata": {},
   "outputs": [
    {
     "name": "stdout",
     "output_type": "stream",
     "text": [
      "15\n",
      "25\n",
      "35\n"
     ]
    }
   ],
   "source": [
    "def myfunc(n):\n",
    "    return lambda a : a + n\n",
    "add10 = myfunc(10)\n",
    "add20 = myfunc(20)\n",
    "add30 = myfunc(30)\n",
    "print(add10(5))\n",
    "print(add20(5))\n",
    "print(add30(5))"
   ]
  },
  {
   "cell_type": "code",
   "execution_count": 35,
   "id": "f1d7a1b2",
   "metadata": {},
   "outputs": [
    {
     "data": {
      "text/plain": [
       "[1, 3, 5, 7, 9]"
      ]
     },
     "execution_count": 35,
     "metadata": {},
     "output_type": "execute_result"
    }
   ],
   "source": [
    "list1 = [1,2,3,4,5,6,7,8,9]\n",
    "def odd(n):\n",
    "    if n%2 ==1:return True\n",
    "    else: return False\n",
    "odd_num = list(filter(odd,list1))        # This Filter function filters list1 and passes\n",
    "odd_num"
   ]
  },
  {
   "cell_type": "code",
   "execution_count": 36,
   "id": "31f32d02",
   "metadata": {},
   "outputs": [
    {
     "data": {
      "text/plain": [
       "[2, 4, 6, 8]"
      ]
     },
     "execution_count": 36,
     "metadata": {},
     "output_type": "execute_result"
    }
   ],
   "source": [
    "list1 = [1,2,3,4,5,6,7,8,9]\n",
    "# The below Filter function filters \"list1\" and passes all odd numbers using lamb\n",
    "even_num = list(filter(lambda n: n%2 ==0 ,list1)) \n",
    "even_num"
   ]
  },
  {
   "cell_type": "code",
   "execution_count": 37,
   "id": "3d947eb4",
   "metadata": {},
   "outputs": [
    {
     "data": {
      "text/plain": [
       "[4, 8, 12, 16]"
      ]
     },
     "execution_count": 37,
     "metadata": {},
     "output_type": "execute_result"
    }
   ],
   "source": [
    "def twice(n):\n",
    "    return n*2\n",
    " \n",
    "doubles = list(map(twice,even_num))                \n",
    "doubles"
   ]
  },
  {
   "cell_type": "code",
   "execution_count": 38,
   "id": "cf03288e",
   "metadata": {},
   "outputs": [
    {
     "data": {
      "text/plain": [
       "[2, 6, 10, 14, 18]"
      ]
     },
     "execution_count": 38,
     "metadata": {},
     "output_type": "execute_result"
    }
   ],
   "source": [
    "doubles = list(map(lambda n:n*2,odd_num))                     \n",
    "doubles"
   ]
  },
  {
   "cell_type": "code",
   "execution_count": 39,
   "id": "134a6f0d",
   "metadata": {},
   "outputs": [
    {
     "data": {
      "text/plain": [
       "50"
      ]
     },
     "execution_count": 39,
     "metadata": {},
     "output_type": "execute_result"
    }
   ],
   "source": [
    "from functools import reduce\n",
    "def add(a,b):\n",
    "    return a+b\n",
    "\n",
    "sum_all = reduce(add,doubles)               # This reduce function will perform sum of all item\n",
    "sum_all"
   ]
  },
  {
   "cell_type": "code",
   "execution_count": 40,
   "id": "5077e8a8",
   "metadata": {},
   "outputs": [
    {
     "data": {
      "text/plain": [
       "50"
      ]
     },
     "execution_count": 40,
     "metadata": {},
     "output_type": "execute_result"
    }
   ],
   "source": [
    "#The below reduce() function will perform sum of all items in the list using lambda\n",
    "sum_all = reduce(lambda a,b : a+b,doubles)\n",
    "sum_all"
   ]
  },
  {
   "cell_type": "code",
   "execution_count": 41,
   "id": "05d12d9e",
   "metadata": {},
   "outputs": [
    {
     "data": {
      "text/plain": [
       "12"
      ]
     },
     "execution_count": 41,
     "metadata": {},
     "output_type": "execute_result"
    }
   ],
   "source": [
    "# Putting all together \n",
    "from functools import reduce\n",
    "\n",
    "sum_all = reduce(lambda a, b: a + b, list(map(lambda n: n * 2, list(filter(lambda n: n % 2 == 0, [1, 2, 3, 4, 5])))))\n",
    "sum_all"
   ]
  },
  {
   "cell_type": "code",
   "execution_count": 42,
   "id": "4ce7488c",
   "metadata": {},
   "outputs": [
    {
     "name": "stdout",
     "output_type": "stream",
     "text": [
      "--------\n",
      "[2, 4, 6, 8, 10]\n",
      "[1, 3, 5, 7, 9]\n",
      "--------\n",
      "['TWO', 'FOUR']\n",
      "['one', 'three']\n",
      "--------\n",
      "['one']\n",
      "['88', '99', '102']\n",
      "['one', 'two2', 'three3', '88', '99', '102']\n",
      "--------\n"
     ]
    }
   ],
   "source": [
    "list1 = [1,2,3,4,5,6,7,8,9,10]\n",
    "even = list(filter(lambda n: n%2 ==0 ,list1)) # Filter even numbers from the list\n",
    "odd = list(filter(lambda n: n%2 !=0 ,list1)) # Filter odd numbers from the list\n",
    "print('--------')\n",
    "print(even)\n",
    "print(odd)\n",
    "print('--------')\n",
    "list2 = ['one' , 'TWO' , 'three' , 'FOUR']\n",
    "upper = list(filter(lambda x: x.isupper() , list2)) # filter uppercase strings \n",
    "lower = list(filter(lambda x: x.islower() , list2)) # filter lowercase strings \n",
    "print(upper)\n",
    "print(lower)\n",
    "print('--------')\n",
    "list3 = ['one' , 'two2' , 'three3' ,'88' , '99' , '102']\n",
    "numeric = list(filter(lambda x:x.isnumeric(), list3))                  # filter numbers \n",
    "alpha = list(filter(lambda x:x.isalpha(), list3))                     # filter character strings\n",
    "alphanum = list(filter(lambda x:x.isalnum(), list3))                  # filtr numbers & character \n",
    "print(alpha)\n",
    "print(numeric)\n",
    "print(alphanum)\n",
    "print('--------')"
   ]
  },
  {
   "cell_type": "code",
   "execution_count": 43,
   "id": "30fec88a",
   "metadata": {},
   "outputs": [
    {
     "name": "stdout",
     "output_type": "stream",
     "text": [
      "---------------\n",
      "[2, 4, 6, 8]\n",
      "[6, 8, 10, 12]\n",
      "[1, 4, 9, 16]\n",
      "---------------\n",
      "[2, 4, 6, 8]\n",
      "[6, 8, 10, 12]\n",
      "[1, 4, 9, 16]\n",
      "---------------\n"
     ]
    }
   ],
   "source": [
    "list1 = [1,2,3,4]\n",
    "list2 = [5,6,7,8]\n",
    "def double(x):\n",
    "    return x+x\n",
    "def add(x,y):\n",
    "    return x+y\n",
    "def square(x):\n",
    "    return x*x\n",
    "print('---------------')\n",
    "print(list(map(double, list1))) # Double each number using map & User defined function\n",
    "print(list(map(add, list1, list2))) # add two items using map & User defined function\n",
    "print(list(map(square, list1))) #Square numbers using map & User defined function\n",
    "print('---------------')\n",
    "print(list(map(lambda x: x + x, list1))) # Double each number using map & lambda\n",
    "print(list(map(lambda x, y: x + y, list1, list2))) # add two items using map & lamda\n",
    "print(list(map(lambda x: x*x, list1))) #Square numbers using map & lambda\n",
    "print('---------------')"
   ]
  },
  {
   "cell_type": "code",
   "execution_count": 44,
   "id": "5a5594b9",
   "metadata": {},
   "outputs": [
    {
     "name": "stdout",
     "output_type": "stream",
     "text": [
      "1\n",
      "4\n"
     ]
    }
   ],
   "source": [
    "list2 = [1,2,3,4]\n",
    "\n",
    "\n",
    "min_num = reduce(lambda a, b: a if a < b else b, list2)                # Minimum number in the list\n",
    "\n",
    "max_num = reduce(lambda a, b: a if a > b else b, list2)                # Maximum number in the list\n",
    "\n",
    "print(min_num)\n",
    "print(max_num)"
   ]
  },
  {
   "cell_type": "code",
   "execution_count": 45,
   "id": "27cd95d1",
   "metadata": {},
   "outputs": [
    {
     "name": "stdout",
     "output_type": "stream",
     "text": [
      "------\n",
      "False\n",
      "True\n",
      "False\n",
      "------\n",
      "False\n",
      "True\n",
      "True\n",
      "------\n"
     ]
    }
   ],
   "source": [
    "print('------')\n",
    "print(reduce(lambda a, b: bool(a and b), [0, 0, 1, 0, 0])) # Returns True if all True\n",
    "print(reduce(lambda a, b: bool(a and b), [2, 3, 1, 5, 6])) # Returns True if all True\n",
    "print(reduce(lambda a, b: bool(a and b), [8, 9, 1, 0, 9])) # Returns True if all True\n",
    "print('------')\n",
    "print(reduce(lambda a, b: bool(a or b), [0, 0, 0, 0, 0])) # Returns True if any True\n",
    "print(reduce(lambda a, b: bool(a or b), [2, 3, 1, 5, 6])) # Returns True if any True\n",
    "print(reduce(lambda a, b: bool(a or b), [8, 9, 1, 0, 9])) # Returns True if any True\n",
    "print('------')"
   ]
  },
  {
   "cell_type": "code",
   "execution_count": 46,
   "id": "aec5d9b6",
   "metadata": {},
   "outputs": [
    {
     "name": "stdout",
     "output_type": "stream",
     "text": [
      "10\n"
     ]
    }
   ],
   "source": [
    "# Create a class with property \"var1\"\n",
    "class myclass:\n",
    "    var1 = 10\n",
    "\n",
    "obj1 = myclass()                   # Create an object of class \"myclass()\"\n",
    "print(obj1.var1)"
   ]
  },
  {
   "cell_type": "code",
   "execution_count": 47,
   "id": "49af2d8e",
   "metadata": {},
   "outputs": [
    {
     "name": "stdout",
     "output_type": "stream",
     "text": [
      "Name :-  Firoz\n",
      "Employee ID :-  433433\n",
      "Thanks for joining ABC Company Firoz!!\n"
     ]
    }
   ],
   "source": [
    "# Create an employee class\n",
    "class Employee:\n",
    "    def __init__(self, name, empid):      # __init__() function is used to assign values\n",
    "        self.name = name\n",
    "        self.empid = empid\n",
    "    def greet(self):                                       # Class Method\n",
    "        print(\"Thanks for joining ABC Company {}!!\".format(self.name))\n",
    "        \n",
    "emp1 = Employee(\"Firoz\", 433433)                   #Create an employee object\n",
    "print('Name :- ',emp1.name)\n",
    "print('Employee ID :- ',emp1.empid)\n",
    "emp1.greet()"
   ]
  },
  {
   "cell_type": "code",
   "execution_count": 48,
   "id": "a329aa6b",
   "metadata": {},
   "outputs": [
    {
     "data": {
      "text/plain": [
       "'Shaik'"
      ]
     },
     "execution_count": 48,
     "metadata": {},
     "output_type": "execute_result"
    }
   ],
   "source": [
    "emp1.name = 'Shaik'                    # Modify Object Properties\n",
    "emp1.name"
   ]
  },
  {
   "cell_type": "code",
   "execution_count": 49,
   "id": "ee7832be",
   "metadata": {},
   "outputs": [],
   "source": [
    "#del emp1.empid                        # Delete Object Properties\n",
    "#emp1.empid"
   ]
  },
  {
   "cell_type": "code",
   "execution_count": 50,
   "id": "be48067a",
   "metadata": {},
   "outputs": [],
   "source": [
    "#del emp1 # Delete the object\n",
    "#emp1"
   ]
  },
  {
   "cell_type": "code",
   "execution_count": 51,
   "id": "32d9eb10",
   "metadata": {},
   "outputs": [
    {
     "name": "stdout",
     "output_type": "stream",
     "text": [
      "Name :-  Ganesh\n",
      "Employee ID :-  434434\n",
      "Thanks for joining ABC Company Ganesh!!\n"
     ]
    }
   ],
   "source": [
    "emp2 = Employee(\"Ganesh\", 434434)                  # Create an employee object\n",
    "print('Name :- ',emp2.name)\n",
    "print('Employee ID :- ',emp2.empid)\n",
    "emp2.greet()"
   ]
  },
  {
   "cell_type": "code",
   "execution_count": 52,
   "id": "d4fe466c",
   "metadata": {},
   "outputs": [
    {
     "data": {
      "text/plain": [
       "'India'"
      ]
     },
     "execution_count": 52,
     "metadata": {},
     "output_type": "execute_result"
    }
   ],
   "source": [
    "emp2.country = 'India' #instance variable can be created manually\n",
    "emp2.country"
   ]
  },
  {
   "cell_type": "code",
   "execution_count": 53,
   "id": "11fa649c",
   "metadata": {},
   "outputs": [
    {
     "name": "stdout",
     "output_type": "stream",
     "text": [
      "Student Details\n",
      "---------------\n",
      "Name :- Firoz\n",
      "Age :- 22\n",
      "Gender :- Male\n",
      "Student ID :- 433\n",
      "Fees :- 10000\n",
      "\n",
      "Employee Details\n",
      "---------------\n",
      "Name :- shaik\n",
      "Age :- 33\n",
      "Gender :- Male\n",
      "Employee ID :- 456\n",
      "Salary :- 80000\n"
     ]
    }
   ],
   "source": [
    "class person:                                    # Parent Class\n",
    "    def __init__(self, name , age , gender):\n",
    "        self.name = name\n",
    "        self.age = age\n",
    "        self.gender = gender\n",
    " \n",
    "    def PersonInfo(self):\n",
    "        print('Name :- {}'.format(self.name))\n",
    "        print('Age :- {}'.format(self.age))\n",
    "        print('Gender :- {}'.format(self.gender))\n",
    " \n",
    " \n",
    "class student(person):                                 # Child Class\n",
    "    def __init__(self,name,age,gender,studentid,fees):\n",
    "        person.__init__(self,name,age,gender)\n",
    "        self.studentid = studentid\n",
    "        self.fees = fees\n",
    " \n",
    "    def StudentInfo(self):\n",
    "        print('Student ID :- {}'.format(self.studentid))\n",
    "        print('Fees :- {}'.format(self.fees))\n",
    "        \n",
    "class teacher(person):                                # Child Class\n",
    "    def __init__(self,name,age,gender,empid,salary):\n",
    "        person.__init__(self,name,age,gender)\n",
    "        self.empid = empid\n",
    "        self.salary = salary\n",
    " \n",
    "    def TeacherInfo(self):\n",
    "        print('Employee ID :- {}'.format(self.empid))\n",
    "        print('Salary :- {}'.format(self.salary))\n",
    "\n",
    "stud1 = student('Firoz' , 22 , 'Male' , 433 , 10000)\n",
    "print('Student Details')\n",
    "print('---------------')\n",
    "stud1.PersonInfo() # PersonInfo() method presnt in Parent Class will be access\n",
    "stud1.StudentInfo()\n",
    "print()\n",
    "teacher1 = teacher('shaik' , 33 , 'Male' , 456 , 80000)\n",
    "print('Employee Details')\n",
    "print('---------------')\n",
    "teacher1.PersonInfo() # PersonInfo() method presnt in Parent Class will be acc\n",
    "teacher1.TeacherInfo()"
   ]
  },
  {
   "cell_type": "code",
   "execution_count": 54,
   "id": "820dcde7",
   "metadata": {},
   "outputs": [
    {
     "name": "stdout",
     "output_type": "stream",
     "text": [
      "Student Details\n",
      "---------------\n",
      "Name :- Firoz\n",
      "Age :- 22\n",
      "Gender :- Male\n",
      "Student ID :- 433\n",
      "Fees :- 12100\n",
      "\n"
     ]
    }
   ],
   "source": [
    "class person:        # Parent Class\n",
    "    def __init__(self, name , age , gender):\n",
    "        self.name = name\n",
    "        self.age = age\n",
    "        self.gender = gender\n",
    " \n",
    "    def PersonInfo(self):\n",
    "        print('Name :- {}'.format(self.name))\n",
    "        print('Age :- {}'.format(self.age))\n",
    "        print('Gender :- {}'.format(self.gender))\n",
    "\n",
    "class student(person): # Child Class\n",
    "    def __init__(self,name,age,gender,studentid,fees):\n",
    "        person.__init__(self,name,age,gender)\n",
    "        self.studentid = studentid\n",
    "        self.fees = fees\n",
    " \n",
    "    def StudentInfo(self):\n",
    "        print('Student ID :- {}'.format(self.studentid))\n",
    "        print('Fees :- {}'.format(self.fees))\n",
    " \n",
    " \n",
    "stud1 = student('Firoz' , 22 , 'Male' , 433 , 12100)\n",
    "print('Student Details')\n",
    "print('---------------')\n",
    "stud1.PersonInfo()                # PersonInfo() method presnt in Parent Class will be access\n",
    "stud1.StudentInfo()\n",
    "print()"
   ]
  },
  {
   "cell_type": "code",
   "execution_count": 55,
   "id": "386c932e",
   "metadata": {},
   "outputs": [
    {
     "name": "stdout",
     "output_type": "stream",
     "text": [
      "Student Details\n",
      "---------------\n",
      "Name :- Firoz\n",
      "Age :- 22\n",
      "Gender :- Male\n",
      "Student ID :- 433\n",
      "Fees :- 12000\n"
     ]
    }
   ],
   "source": [
    "# super() builtin function allows us to access methods of the base class.\n",
    "class person:                              # Parent Class\n",
    "    def __init__(self, name , age , gender):\n",
    "        self.name = name\n",
    "        self.age = age\n",
    "        self.gender = gender\n",
    " \n",
    "    def PersonInfo(self):\n",
    "        print('Name :- {}'.format(self.name))\n",
    "        print('Age :- {}'.format(self.age))\n",
    "        print('Gender :- {}'.format(self.gender))\n",
    " \n",
    " \n",
    "class student(person): # Child Class\n",
    "    def __init__(self,name,age,gender,studentid,fees):\n",
    "        super().__init__(name,age,gender) \n",
    "        self.studentid = studentid\n",
    "        self.fees = fees\n",
    " \n",
    "    def StudentInfo(self):\n",
    "        super().PersonInfo()\n",
    "        print('Student ID :- {}'.format(self.studentid))\n",
    "        print('Fees :- {}'.format(self.fees))\n",
    "\n",
    "stud = student('Firoz' , 22 , 'Male' , 433 , 12000)\n",
    "print('Student Details')\n",
    "print('---------------')\n",
    "stud.StudentInfo()"
   ]
  },
  {
   "cell_type": "code",
   "execution_count": 56,
   "id": "bdb41ab4",
   "metadata": {},
   "outputs": [
    {
     "name": "stdout",
     "output_type": "stream",
     "text": [
      "Contractual Employee Details\n",
      "****************************\n",
      "Name :- Shaik\n",
      "Age :- 23\n",
      "Gender :- Male\n",
      "Employee ID :- 456\n",
      "Salary :- 80000\n",
      "Contract Expiry :- 31-03-2023\n",
      "\n",
      " \n",
      "\n",
      "Fulltime Employee Details\n",
      "****************************\n",
      "Name :- Firoz\n",
      "Age :- 22\n",
      "Gender :- Male\n",
      "Employee ID :- 433\n",
      "Salary :- 70000\n",
      "Work Experience :- 0\n"
     ]
    }
   ],
   "source": [
    "class person: # Parent Class\n",
    "    def __init__(self, name , age , gender):\n",
    "        self.name = name\n",
    "        self.age = age\n",
    "        self.gender = gender\n",
    " \n",
    "    def PersonInfo(self):\n",
    "        print('Name :- {}'.format(self.name))\n",
    "        print('Age :- {}'.format(self.age))\n",
    "        print('Gender :- {}'.format(self.gender))\n",
    " \n",
    " \n",
    "class employee(person): # Child Class\n",
    "    def __init__(self,name,age,gender,empid,salary):\n",
    "        person.__init__(self,name,age,gender)\n",
    "        self.empid = empid\n",
    "        self.salary = salary\n",
    " \n",
    "    def employeeInfo(self):\n",
    "        print('Employee ID :- {}'.format(self.empid))\n",
    "        print('Salary :- {}'.format(self.salary))\n",
    "\n",
    "class fulltime(employee): # Grand Child Class\n",
    "    def __init__(self,name,age,gender,empid,salary,WorkExperience):\n",
    "        employee.__init__(self,name,age,gender,empid,salary)\n",
    "        self.WorkExperience = WorkExperience\n",
    " \n",
    "    def FulltimeInfo(self):\n",
    "        print('Work Experience :- {}'.format(self.WorkExperience))\n",
    "class contractual(employee): # Grand Child Class\n",
    "    def __init__(self,name,age,gender,empid,salary,ContractExpiry):\n",
    "        employee.__init__(self,name,age,gender,empid,salary)\n",
    "        self.ContractExpiry = ContractExpiry\n",
    " \n",
    "    def ContractInfo(self):\n",
    "        print('Contract Expiry :- {}'.format(self.ContractExpiry))\n",
    "\n",
    "print('Contractual Employee Details')\n",
    "print('****************************')\n",
    "contract1 = contractual('Shaik' , 23 , 'Male' , 456 , 80000,'31-03-2023')\n",
    "contract1.PersonInfo()\n",
    "contract1.employeeInfo()\n",
    "contract1.ContractInfo()\n",
    "print('\\n \\n')\n",
    "print('Fulltime Employee Details')\n",
    "print('****************************')\n",
    "fulltim1= fulltime('Firoz' , 22 , 'Male' , 433 , 70000, 0)\n",
    "fulltim1.PersonInfo()\n",
    "fulltim1.employeeInfo()\n",
    "fulltim1.FulltimeInfo()"
   ]
  },
  {
   "cell_type": "code",
   "execution_count": 57,
   "id": "7f401d21",
   "metadata": {},
   "outputs": [
    {
     "name": "stdout",
     "output_type": "stream",
     "text": [
      "Hello Student\n",
      "Hello Person\n"
     ]
    }
   ],
   "source": [
    "class person: # Parent Class\n",
    "    def __init__(self, name , age , gender):\n",
    "        self.name = name\n",
    "        self.age = age\n",
    "        self.gender = gender\n",
    " \n",
    "    def greet(self):\n",
    "        print(\"Hello Person\")\n",
    "\n",
    "class student(person): # Child Class\n",
    "    def __init__(self,name,age,gender,studentid,fees):\n",
    "        person.__init__(self,name,age,gender)\n",
    "        self.studentid = studentid\n",
    "        self.fees = fees\n",
    "    def greet(self):\n",
    "        print(\"Hello Student\")\n",
    " \n",
    " \n",
    "stud = student('firoz' , 22 , 'Male' , 433 , 23445)\n",
    "stud.greet() # greet() method defined in subclass will be triggered as \"stud\" is \n",
    "person1 = person('shaik' , 33 , 'Male')\n",
    "person1.greet() # greet() "
   ]
  },
  {
   "cell_type": "markdown",
   "id": "99c6d039",
   "metadata": {},
   "source": [
    "## container"
   ]
  },
  {
   "cell_type": "code",
   "execution_count": 58,
   "id": "f17e261b",
   "metadata": {},
   "outputs": [
    {
     "data": {
      "text/plain": [
       "True"
      ]
     },
     "execution_count": 58,
     "metadata": {},
     "output_type": "execute_result"
    }
   ],
   "source": [
    "list1 = ['firoz' , 'shaik' , 'yaseen' , 'ajas']\n",
    "'firoz' in list1 # Membership check using 'in' operator"
   ]
  },
  {
   "cell_type": "code",
   "execution_count": 59,
   "id": "e40ad978",
   "metadata": {},
   "outputs": [],
   "source": [
    "assert 'firoz' in list1 # If the condition returns true the program does nothing \n",
    "#assert 'firoz1' in list1 # If the condition returns false, Assert will stop the program\n"
   ]
  },
  {
   "cell_type": "code",
   "execution_count": 60,
   "id": "a5d91b44",
   "metadata": {},
   "outputs": [
    {
     "data": {
      "text/plain": [
       "{'Name': 'Firoz', 'ID': 12345, 'DOB': 2001, 'Address': 'Rajampet'}"
      ]
     },
     "execution_count": 60,
     "metadata": {},
     "output_type": "execute_result"
    }
   ],
   "source": [
    "mydict = {'Name':'Firoz' , 'ID': 12345 , 'DOB': 2001 , 'Address' : 'Rajampet'}\n",
    "mydict"
   ]
  },
  {
   "cell_type": "code",
   "execution_count": 61,
   "id": "a653386d",
   "metadata": {},
   "outputs": [
    {
     "data": {
      "text/plain": [
       "False"
      ]
     },
     "execution_count": 61,
     "metadata": {},
     "output_type": "execute_result"
    }
   ],
   "source": [
    "'Firoz' in mydict # Dictionary membership will always check the keys"
   ]
  },
  {
   "cell_type": "code",
   "execution_count": 62,
   "id": "95af9d2f",
   "metadata": {},
   "outputs": [
    {
     "data": {
      "text/plain": [
       "True"
      ]
     },
     "execution_count": 62,
     "metadata": {},
     "output_type": "execute_result"
    }
   ],
   "source": [
    "'Name' in mydict # Dictionary membership will always check the keys"
   ]
  },
  {
   "cell_type": "code",
   "execution_count": 63,
   "id": "9eccc7a9",
   "metadata": {},
   "outputs": [
    {
     "data": {
      "text/plain": [
       "True"
      ]
     },
     "execution_count": 63,
     "metadata": {},
     "output_type": "execute_result"
    }
   ],
   "source": [
    "'DOB' in mydict"
   ]
  },
  {
   "cell_type": "code",
   "execution_count": 64,
   "id": "b79abf15",
   "metadata": {},
   "outputs": [
    {
     "data": {
      "text/plain": [
       "True"
      ]
     },
     "execution_count": 64,
     "metadata": {},
     "output_type": "execute_result"
    }
   ],
   "source": [
    "mystr = 'firozshaik'\n",
    "'ir' in mystr # Check if substring is presen"
   ]
  },
  {
   "cell_type": "code",
   "execution_count": 65,
   "id": "372bb12b",
   "metadata": {},
   "outputs": [
    {
     "name": "stdout",
     "output_type": "stream",
     "text": [
      "One\n",
      "Two\n",
      "Three\n",
      "Four\n"
     ]
    }
   ],
   "source": [
    "## iterable and itterator\n",
    "mylist = ['One' , 'Two' , 'Three' , 'Four']\n",
    "list_iter = iter(mylist) # Create an iterator object using iter()\n",
    "print(next(list_iter)) # return first element in the iterator stream\n",
    "print(next(list_iter)) # return next element in the iterator stream\n",
    "print(next(list_iter))\n",
    "print(next(list_iter))\n",
    "#print(next(list_iter))"
   ]
  },
  {
   "cell_type": "code",
   "execution_count": 66,
   "id": "d8ea4f38",
   "metadata": {},
   "outputs": [
    {
     "name": "stdout",
     "output_type": "stream",
     "text": [
      "One\n",
      "Two\n",
      "Three\n",
      "Four\n"
     ]
    }
   ],
   "source": [
    "mylist = ['One' , 'Two' , 'Three' , 'Four']\n",
    "list_iter = iter(mylist) # Create an iterator object using iter()\n",
    "print(list_iter.__next__()) # return first element in the iterator stream\n",
    "print(list_iter.__next__()) # return next element in the iterator stream\n",
    "print(list_iter.__next__())\n",
    "print(list_iter.__next__())"
   ]
  },
  {
   "cell_type": "code",
   "execution_count": 67,
   "id": "ad8d9031",
   "metadata": {},
   "outputs": [
    {
     "name": "stdout",
     "output_type": "stream",
     "text": [
      "One\n",
      "Two\n",
      "Three\n",
      "Four\n"
     ]
    }
   ],
   "source": [
    "mylist = ['One' , 'Two' , 'Three' , 'Four']\n",
    "list_iter = iter(mylist) # Create an iterator object using iter()\n",
    "for i in list_iter:\n",
    "    print(i)"
   ]
  },
  {
   "cell_type": "code",
   "execution_count": 68,
   "id": "34d8376a",
   "metadata": {},
   "outputs": [
    {
     "name": "stdout",
     "output_type": "stream",
     "text": [
      "One\n",
      "Two\n",
      "Three\n",
      "Four\n"
     ]
    }
   ],
   "source": [
    "# Looping Through an Iterable (list) using for loop\n",
    "mylist = ['One' , 'Two' , 'Three' , 'Four']\n",
    "for i in mylist:\n",
    "    print(i)"
   ]
  },
  {
   "cell_type": "code",
   "execution_count": 69,
   "id": "fb3b6db2",
   "metadata": {},
   "outputs": [
    {
     "name": "stdout",
     "output_type": "stream",
     "text": [
      "One\n",
      "Two\n",
      "Three\n",
      "Four\n"
     ]
    }
   ],
   "source": [
    "# Looping Through an Iterable (tuple) using for loop\n",
    "mytuple = ('One' , 'Two' , 'Three' , 'Four')\n",
    "for i in mytuple:\n",
    "    print(i)"
   ]
  },
  {
   "cell_type": "code",
   "execution_count": 70,
   "id": "032ea0fd",
   "metadata": {},
   "outputs": [
    {
     "name": "stdout",
     "output_type": "stream",
     "text": [
      "H\n",
      "e\n",
      "l\n",
      "l\n",
      "o\n",
      " \n",
      "P\n",
      "y\n",
      "t\n",
      "h\n",
      "o\n",
      "n\n"
     ]
    }
   ],
   "source": [
    "# Looping Through an Iterable (string) using for loop\n",
    "mystr = \"Hello Python\"\n",
    "for i in mystr:\n",
    "    print(i)"
   ]
  },
  {
   "cell_type": "code",
   "execution_count": 71,
   "id": "477cc35f",
   "metadata": {},
   "outputs": [
    {
     "name": "stdout",
     "output_type": "stream",
     "text": [
      "1\n",
      "2\n",
      "3\n",
      "4\n",
      "5\n",
      "6\n",
      "7\n",
      "8\n",
      "9\n",
      "10\n"
     ]
    }
   ],
   "source": [
    "# This iterator produces all natural numbers from 1 to 10.\n",
    "class myiter:\n",
    "    def __init__(self):\n",
    "        self.num = 0\n",
    " \n",
    "    def __iter__(self):\n",
    "        self.num = 1\n",
    "        return self\n",
    " \n",
    "    def __next__(self):\n",
    "        if self.num <= 10:\n",
    "            val = self.num\n",
    "            self.num += 1\n",
    "            return val\n",
    "        else:\n",
    "            raise StopIteration\n",
    "mynum = myiter()\n",
    "iter1 = iter(mynum)\n",
    "for i in iter1:\n",
    "    print(i)"
   ]
  },
  {
   "cell_type": "code",
   "execution_count": 72,
   "id": "bac84150",
   "metadata": {},
   "outputs": [
    {
     "name": "stdout",
     "output_type": "stream",
     "text": [
      "1\n",
      "1\n",
      "2\n",
      "3\n",
      "5\n",
      "8\n",
      "13\n",
      "21\n",
      "34\n"
     ]
    }
   ],
   "source": [
    "# This iterator will produce fibonacci numbers\n",
    "class myfibonacci:\n",
    "    def __init__(self):\n",
    "        self.prev = 0\n",
    "        self.cur = 0\n",
    " \n",
    "    def __iter__(self):\n",
    "        self.prev = 0\n",
    "        self.cur = 1\n",
    "        return self\n",
    " \n",
    "    def __next__(self):\n",
    "        if self.cur <= 50:\n",
    "            val = self.cur\n",
    "            self.cur += self.prev\n",
    "            self.prev = val\n",
    "            return val\n",
    "        else:\n",
    "            raise StopIteration\n",
    "myfibo = myfibonacci()\n",
    "iter1 = iter(myfibo)\n",
    "for i in iter1:\n",
    "    print(i)"
   ]
  },
  {
   "cell_type": "markdown",
   "id": "fc718905",
   "metadata": {},
   "source": [
    "## Error and Exception Handling"
   ]
  },
  {
   "cell_type": "code",
   "execution_count": 73,
   "id": "04fe2671",
   "metadata": {},
   "outputs": [
    {
     "name": "stdout",
     "output_type": "stream",
     "text": [
      "Variable x is not defined\n"
     ]
    }
   ],
   "source": [
    "try:\n",
    "    print(x) # NameError exception will be encountered as variable x is not defined\n",
    "except:\n",
    "    print('Variable x is not defined')"
   ]
  },
  {
   "cell_type": "code",
   "execution_count": 74,
   "id": "936975dd",
   "metadata": {},
   "outputs": [
    {
     "name": "stdout",
     "output_type": "stream",
     "text": [
      "Enter first number :- 22\n"
     ]
    }
   ],
   "source": [
    "try:\n",
    "    x = int(input('Enter first number :- '))\n",
    "    if x > 50:\n",
    "        raise ValueError(x) # If value of x is greater than 50 ValueError exception\n",
    "except:\n",
    "    print(sys.exc_info()[0])"
   ]
  },
  {
   "cell_type": "markdown",
   "id": "32bc29a0",
   "metadata": {},
   "source": [
    "## Built in Exceptions"
   ]
  },
  {
   "cell_type": "code",
   "execution_count": 75,
   "id": "58b43aaa",
   "metadata": {},
   "outputs": [
    {
     "name": "stdout",
     "output_type": "stream",
     "text": [
      "(<class 'OverflowError'>, OverflowError('math range error'), <traceback object at 0x000001F00FCE3A40>)\n"
     ]
    }
   ],
   "source": [
    "# OverflowError - This exception is raised when the result of a numeric calculation\n",
    "import sys\n",
    "try: \n",
    "    import math\n",
    "    print(math.exp(1000))\n",
    "except OverflowError: \n",
    "    print (sys.exc_info())\n",
    "else: \n",
    "    print (\"Success, no error!\")"
   ]
  },
  {
   "cell_type": "code",
   "execution_count": 76,
   "id": "6a129d14",
   "metadata": {},
   "outputs": [
    {
     "name": "stdout",
     "output_type": "stream",
     "text": [
      "Enter first number :- 22\n",
      "Enter first number :- 2\n",
      "11.0\n"
     ]
    }
   ],
   "source": [
    "# ZeroDivisionError - This exception is raised when the second operator in a division\n",
    "try:\n",
    "    x = int(input('Enter first number :- '))\n",
    "    y = int(input('Enter first number :- '))\n",
    "    print(x/y)\n",
    "except ZeroDivisionError:\n",
    "    print('ZeroDivisionError exception occurred')\n",
    "    "
   ]
  },
  {
   "cell_type": "code",
   "execution_count": 77,
   "id": "3307e3b2",
   "metadata": {},
   "outputs": [
    {
     "name": "stdout",
     "output_type": "stream",
     "text": [
      "NameError exception occurred\n"
     ]
    }
   ],
   "source": [
    "# NameError - This exception is raised when a variable does not exist\n",
    "try:\n",
    " print(x1)\n",
    "except NameError:\n",
    " print('NameError exception occurred')"
   ]
  },
  {
   "cell_type": "code",
   "execution_count": 78,
   "id": "8328d7d4",
   "metadata": {},
   "outputs": [
    {
     "name": "stdout",
     "output_type": "stream",
     "text": [
      "Assertion Exception Raised.\n"
     ]
    }
   ],
   "source": [
    "# AssertionError - This exception is raised when an assert statement fails\n",
    "try: \n",
    "    a = 50\n",
    "    b = \"Firoz\"\n",
    "    assert a == b\n",
    "except AssertionError: \n",
    "    print (\"Assertion Exception Raised.\")"
   ]
  },
  {
   "cell_type": "code",
   "execution_count": 79,
   "id": "bc898531",
   "metadata": {},
   "outputs": [
    {
     "name": "stdout",
     "output_type": "stream",
     "text": [
      "ModuleNotFoundError Exception Raised.\n"
     ]
    }
   ],
   "source": [
    "# ModuleNotFoundError - This exception is raised when an imported module does not exist\n",
    "try:\n",
    "    import MyModule\n",
    "except ModuleNotFoundError: \n",
    "    print (\"ModuleNotFoundError Exception Raised.\")"
   ]
  },
  {
   "cell_type": "code",
   "execution_count": 80,
   "id": "360ab3aa",
   "metadata": {},
   "outputs": [
    {
     "name": "stdout",
     "output_type": "stream",
     "text": [
      "KeyError Exception Raised.\n"
     ]
    }
   ],
   "source": [
    "# KeyError - This exception is raised when key does not exist in a dictionary\n",
    "try:\n",
    "    mydict = {1:'Shaik', 2:'Firoz', 3:'king'}\n",
    "    print (mydict[4])\n",
    "except KeyError:\n",
    "    print (\"KeyError Exception Raised.\")"
   ]
  },
  {
   "cell_type": "code",
   "execution_count": 81,
   "id": "24ddadac",
   "metadata": {},
   "outputs": [
    {
     "name": "stdout",
     "output_type": "stream",
     "text": [
      "IndexError Exception Raised.\n"
     ]
    }
   ],
   "source": [
    "# IndexError - This exception is raised when an index of a sequence does not exist\n",
    "try:\n",
    "    mylist = [1,2,3,4,5,6]\n",
    "    print (mylist[10])\n",
    "except IndexError:\n",
    "    print (\"IndexError Exception Raised.\")"
   ]
  },
  {
   "cell_type": "code",
   "execution_count": 82,
   "id": "461028aa",
   "metadata": {},
   "outputs": [
    {
     "name": "stdout",
     "output_type": "stream",
     "text": [
      "TypeError Exception Raised.\n"
     ]
    }
   ],
   "source": [
    "# TypeError - This exception is raised when two different datatypes are combined\n",
    "try: \n",
    "    a = 50\n",
    "    b = \"Firoz\"\n",
    "    c = a/b\n",
    "except TypeError: \n",
    "    print (\"TypeError Exception Raised.\")"
   ]
  },
  {
   "cell_type": "code",
   "execution_count": 83,
   "id": "3508a86e",
   "metadata": {},
   "outputs": [
    {
     "name": "stdout",
     "output_type": "stream",
     "text": [
      "AttributeError Exception Raised.\n",
      "Enter first number :- 33\n"
     ]
    }
   ],
   "source": [
    "# AttributeError: - This exception is raised when attribute reference or assignment\n",
    "try: \n",
    "    a = 10\n",
    "    b = a.upper()\n",
    "    print(b)\n",
    "except AttributeError: \n",
    "    print (\"AttributeError Exception Raised.\")\n",
    "try:\n",
    "    x = input('Enter first number :- ')\n",
    "except:\n",
    "    print('ZeroDivisionError exception occurred')"
   ]
  },
  {
   "cell_type": "markdown",
   "id": "4b4bb0d4",
   "metadata": {},
   "source": [
    "# Great Job"
   ]
  }
 ],
 "metadata": {
  "kernelspec": {
   "display_name": "Python 3 (ipykernel)",
   "language": "python",
   "name": "python3"
  },
  "language_info": {
   "codemirror_mode": {
    "name": "ipython",
    "version": 3
   },
   "file_extension": ".py",
   "mimetype": "text/x-python",
   "name": "python",
   "nbconvert_exporter": "python",
   "pygments_lexer": "ipython3",
   "version": "3.10.9"
  }
 },
 "nbformat": 4,
 "nbformat_minor": 5
}
