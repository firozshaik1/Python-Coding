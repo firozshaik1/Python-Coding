{
 "cells": [
  {
   "cell_type": "markdown",
   "id": "47806d41",
   "metadata": {},
   "source": [
    "## String Practice"
   ]
  },
  {
   "cell_type": "code",
   "execution_count": 1,
   "id": "3661b19b",
   "metadata": {},
   "outputs": [
    {
     "name": "stdout",
     "output_type": "stream",
     "text": [
      "HELLO WELOCME TO MY PRACTICE\n"
     ]
    }
   ],
   "source": [
    "str1=\"HELLO WELOCME TO MY PRACTICE\"              #define a string using double quotes\n",
    "print(str1)"
   ]
  },
  {
   "cell_type": "code",
   "execution_count": 2,
   "id": "e76413e3",
   "metadata": {},
   "outputs": [
    {
     "name": "stdout",
     "output_type": "stream",
     "text": [
      "HELLO PEOPLE\n"
     ]
    }
   ],
   "source": [
    "str2='HELLO PEOPLE'             #define a string using single quotes\n",
    "print(str2)"
   ]
  },
  {
   "cell_type": "code",
   "execution_count": 3,
   "id": "8560a997",
   "metadata": {},
   "outputs": [
    {
     "name": "stdout",
     "output_type": "stream",
     "text": [
      "HELLO \n",
      "          GUYS\n",
      "        WELCOME\n"
     ]
    }
   ],
   "source": [
    "str3='''HELLO \n",
    "          GUYS\n",
    "        WELCOME'''                  #deine a string using triple single quotes\n",
    "print(str3)"
   ]
  },
  {
   "cell_type": "code",
   "execution_count": 4,
   "id": "eee222c7",
   "metadata": {},
   "outputs": [
    {
     "name": "stdout",
     "output_type": "stream",
     "text": [
      "HI \n",
      "GUYS \n",
      "           WHAT'S UP\n"
     ]
    }
   ],
   "source": [
    "str4=\"\"\"HI \n",
    "GUYS \n",
    "           WHAT'S UP\"\"\"        #define a string using triple double quotes\n",
    "print(str4)"
   ]
  },
  {
   "cell_type": "code",
   "execution_count": 5,
   "id": "68cee644",
   "metadata": {},
   "outputs": [
    {
     "name": "stdout",
     "output_type": "stream",
     "text": [
      "('firoz', 'ajas', 'yaseen')\n"
     ]
    }
   ],
   "source": [
    "str5=('firoz',\n",
    "    'ajas',\n",
    "    'yaseen')\n",
    "print(str5)"
   ]
  },
  {
   "cell_type": "code",
   "execution_count": 6,
   "id": "11f9462c",
   "metadata": {},
   "outputs": [
    {
     "name": "stdout",
     "output_type": "stream",
     "text": [
      "wah wah wah wah wah \n"
     ]
    }
   ],
   "source": [
    "str6='wah '\n",
    "print(str6*5)"
   ]
  },
  {
   "cell_type": "code",
   "execution_count": 7,
   "id": "fb3cec92",
   "metadata": {},
   "outputs": [
    {
     "data": {
      "text/plain": [
       "37"
      ]
     },
     "execution_count": 7,
     "metadata": {},
     "output_type": "execute_result"
    }
   ],
   "source": [
    "len(str3)"
   ]
  },
  {
   "cell_type": "code",
   "execution_count": 8,
   "id": "8dbf3f78",
   "metadata": {},
   "outputs": [
    {
     "data": {
      "text/plain": [
       "'HELLO WELOCME TO MY PRACTICE'"
      ]
     },
     "execution_count": 8,
     "metadata": {},
     "output_type": "execute_result"
    }
   ],
   "source": [
    "str1"
   ]
  },
  {
   "cell_type": "code",
   "execution_count": 9,
   "id": "339928f2",
   "metadata": {},
   "outputs": [
    {
     "data": {
      "text/plain": [
       "'H'"
      ]
     },
     "execution_count": 9,
     "metadata": {},
     "output_type": "execute_result"
    }
   ],
   "source": [
    "str1[0]"
   ]
  },
  {
   "cell_type": "code",
   "execution_count": 10,
   "id": "b6271e0e",
   "metadata": {},
   "outputs": [
    {
     "data": {
      "text/plain": [
       "28"
      ]
     },
     "execution_count": 10,
     "metadata": {},
     "output_type": "execute_result"
    }
   ],
   "source": [
    "len(str1)"
   ]
  },
  {
   "cell_type": "code",
   "execution_count": 11,
   "id": "6a7b52aa",
   "metadata": {},
   "outputs": [
    {
     "data": {
      "text/plain": [
       "'E'"
      ]
     },
     "execution_count": 11,
     "metadata": {},
     "output_type": "execute_result"
    }
   ],
   "source": [
    "str1[len(str1)-1]"
   ]
  },
  {
   "cell_type": "code",
   "execution_count": 12,
   "id": "195c4881",
   "metadata": {},
   "outputs": [
    {
     "data": {
      "text/plain": [
       "'E'"
      ]
     },
     "execution_count": 12,
     "metadata": {},
     "output_type": "execute_result"
    }
   ],
   "source": [
    "str1[-1]"
   ]
  },
  {
   "cell_type": "code",
   "execution_count": 13,
   "id": "05752ca2",
   "metadata": {},
   "outputs": [
    {
     "data": {
      "text/plain": [
       "'L'"
      ]
     },
     "execution_count": 13,
     "metadata": {},
     "output_type": "execute_result"
    }
   ],
   "source": [
    "str1[8]"
   ]
  },
  {
   "cell_type": "code",
   "execution_count": 14,
   "id": "03739dc6",
   "metadata": {},
   "outputs": [
    {
     "data": {
      "text/plain": [
       "'HELLO'"
      ]
     },
     "execution_count": 14,
     "metadata": {},
     "output_type": "execute_result"
    }
   ],
   "source": [
    "str1[0:5]"
   ]
  },
  {
   "cell_type": "code",
   "execution_count": 15,
   "id": "87e71241",
   "metadata": {},
   "outputs": [
    {
     "data": {
      "text/plain": [
       "'WELOCM'"
      ]
     },
     "execution_count": 15,
     "metadata": {},
     "output_type": "execute_result"
    }
   ],
   "source": [
    "str1[6:12]"
   ]
  },
  {
   "cell_type": "code",
   "execution_count": 16,
   "id": "b14d863c",
   "metadata": {},
   "outputs": [
    {
     "data": {
      "text/plain": [
       "' MY PRACTICE'"
      ]
     },
     "execution_count": 16,
     "metadata": {},
     "output_type": "execute_result"
    }
   ],
   "source": [
    "str1[-12:]"
   ]
  },
  {
   "cell_type": "code",
   "execution_count": 17,
   "id": "4c673166",
   "metadata": {},
   "outputs": [
    {
     "data": {
      "text/plain": [
       "'RACTICE'"
      ]
     },
     "execution_count": 17,
     "metadata": {},
     "output_type": "execute_result"
    }
   ],
   "source": [
    "str1[-7:]"
   ]
  },
  {
   "cell_type": "code",
   "execution_count": 18,
   "id": "c23045a7",
   "metadata": {},
   "outputs": [
    {
     "data": {
      "text/plain": [
       "'HELLO'"
      ]
     },
     "execution_count": 18,
     "metadata": {},
     "output_type": "execute_result"
    }
   ],
   "source": [
    "str1[:5]"
   ]
  },
  {
   "cell_type": "code",
   "execution_count": 19,
   "id": "38bd75b8",
   "metadata": {},
   "outputs": [
    {
     "data": {
      "text/plain": [
       "'HELLO WELOCM'"
      ]
     },
     "execution_count": 19,
     "metadata": {},
     "output_type": "execute_result"
    }
   ],
   "source": [
    "str1[:12]"
   ]
  },
  {
   "cell_type": "code",
   "execution_count": 20,
   "id": "9204f98d",
   "metadata": {},
   "outputs": [
    {
     "data": {
      "text/plain": [
       "'HELLO WELOCME TO MY PRACTICE'"
      ]
     },
     "execution_count": 20,
     "metadata": {},
     "output_type": "execute_result"
    }
   ],
   "source": [
    "str1"
   ]
  },
  {
   "cell_type": "code",
   "execution_count": 21,
   "id": "e52009f6",
   "metadata": {},
   "outputs": [],
   "source": [
    "#str1[0]='f'"
   ]
  },
  {
   "cell_type": "code",
   "execution_count": 22,
   "id": "a8980eeb",
   "metadata": {},
   "outputs": [],
   "source": [
    "#str1[0:5]='firoz'"
   ]
  },
  {
   "cell_type": "code",
   "execution_count": 23,
   "id": "7296ac48",
   "metadata": {},
   "outputs": [],
   "source": [
    "del str1\n",
    "#print(str1)"
   ]
  },
  {
   "cell_type": "code",
   "execution_count": 24,
   "id": "873c5d8e",
   "metadata": {},
   "outputs": [
    {
     "name": "stdout",
     "output_type": "stream",
     "text": [
      "shaik firoz\n"
     ]
    }
   ],
   "source": [
    "str7='shaik'\n",
    "str8='firoz'\n",
    "str9=str7+' '+str8\n",
    "print(str9)"
   ]
  },
  {
   "cell_type": "code",
   "execution_count": 25,
   "id": "2c7d1c91",
   "metadata": {},
   "outputs": [
    {
     "data": {
      "text/plain": [
       "'HELLO PYTHON'"
      ]
     },
     "execution_count": 25,
     "metadata": {},
     "output_type": "execute_result"
    }
   ],
   "source": [
    "str1=\"HELLO PYTHON\"\n",
    "str1"
   ]
  },
  {
   "cell_type": "code",
   "execution_count": 26,
   "id": "aebf65e3",
   "metadata": {},
   "outputs": [
    {
     "name": "stdout",
     "output_type": "stream",
     "text": [
      "H\n",
      "E\n",
      "L\n",
      "L\n",
      "O\n",
      " \n",
      "P\n",
      "Y\n",
      "T\n",
      "H\n",
      "O\n",
      "N\n"
     ]
    }
   ],
   "source": [
    "# iteration\n",
    "#for loop\n",
    "for i in str1:\n",
    "    print(i)"
   ]
  },
  {
   "cell_type": "code",
   "execution_count": 27,
   "id": "04f165ae",
   "metadata": {},
   "outputs": [
    {
     "name": "stdout",
     "output_type": "stream",
     "text": [
      "(0, 'H')\n",
      "(1, 'E')\n",
      "(2, 'L')\n",
      "(3, 'L')\n",
      "(4, 'O')\n",
      "(5, ' ')\n",
      "(6, 'P')\n",
      "(7, 'Y')\n",
      "(8, 'T')\n",
      "(9, 'H')\n",
      "(10, 'O')\n",
      "(11, 'N')\n"
     ]
    }
   ],
   "source": [
    "for i in enumerate(str1):\n",
    "    print(i)"
   ]
  },
  {
   "cell_type": "code",
   "execution_count": 28,
   "id": "f36085d7",
   "metadata": {},
   "outputs": [
    {
     "data": {
      "text/plain": [
       "[(0, 'H'),\n",
       " (1, 'E'),\n",
       " (2, 'L'),\n",
       " (3, 'L'),\n",
       " (4, 'O'),\n",
       " (5, ' '),\n",
       " (6, 'P'),\n",
       " (7, 'Y'),\n",
       " (8, 'T'),\n",
       " (9, 'H'),\n",
       " (10, 'O'),\n",
       " (11, 'N')]"
      ]
     },
     "execution_count": 28,
     "metadata": {},
     "output_type": "execute_result"
    }
   ],
   "source": [
    "list(enumerate(str1))"
   ]
  },
  {
   "cell_type": "code",
   "execution_count": 29,
   "id": "c239486e",
   "metadata": {
    "scrolled": true
   },
   "outputs": [
    {
     "name": "stdout",
     "output_type": "stream",
     "text": [
      "HELLO PYTHON\n",
      "True\n",
      "False\n",
      "True\n"
     ]
    }
   ],
   "source": [
    "#string membership \n",
    "print(str1)\n",
    "print('HELLO' in str1)\n",
    "print(\"WELCOME\" in str1)\n",
    "print('PYTHON' in str1)"
   ]
  },
  {
   "cell_type": "code",
   "execution_count": 30,
   "id": "f578adb6",
   "metadata": {},
   "outputs": [
    {
     "name": "stdout",
     "output_type": "stream",
     "text": [
      "Python is a high level general purpose programming language.\n",
      "('Python is a high ', 'level', ' general purpose programming language.')\n",
      "\n",
      "\n",
      "<class 'tuple'>\n"
     ]
    }
   ],
   "source": [
    "\"\"\"The partition() method searches for a specified string and splits the string into\n",
    "     - the first element contains the part before the argument string.\n",
    "     - the second element contain the argument string.\n",
    "     - the third element contain the part after the argument string.\n",
    "\"\"\"\n",
    "str10='Python is a high level general purpose programming language.'\n",
    "print(str10)\n",
    "a=str10.partition('level')\n",
    "print(a)\n",
    "print('\\n')\n",
    "print(type(a))\n"
   ]
  },
  {
   "cell_type": "code",
   "execution_count": 31,
   "id": "ad7323bf",
   "metadata": {},
   "outputs": [
    {
     "data": {
      "text/plain": [
       "'    shaik firoz         '"
      ]
     },
     "execution_count": 31,
     "metadata": {},
     "output_type": "execute_result"
    }
   ],
   "source": [
    "str11=\"    shaik firoz         \"\n",
    "str11"
   ]
  },
  {
   "cell_type": "code",
   "execution_count": 32,
   "id": "66a44942",
   "metadata": {},
   "outputs": [
    {
     "data": {
      "text/plain": [
       "'    shaik firoz'"
      ]
     },
     "execution_count": 32,
     "metadata": {},
     "output_type": "execute_result"
    }
   ],
   "source": [
    "str11.rstrip()"
   ]
  },
  {
   "cell_type": "code",
   "execution_count": 33,
   "id": "c04eecf4",
   "metadata": {},
   "outputs": [
    {
     "data": {
      "text/plain": [
       "'shaik firoz         '"
      ]
     },
     "execution_count": 33,
     "metadata": {},
     "output_type": "execute_result"
    }
   ],
   "source": [
    "str11.lstrip()"
   ]
  },
  {
   "cell_type": "code",
   "execution_count": 34,
   "id": "26e33db9",
   "metadata": {},
   "outputs": [
    {
     "data": {
      "text/plain": [
       "'shaik firoz'"
      ]
     },
     "execution_count": 34,
     "metadata": {},
     "output_type": "execute_result"
    }
   ],
   "source": [
    "str11.strip()"
   ]
  },
  {
   "cell_type": "code",
   "execution_count": 35,
   "id": "86714453",
   "metadata": {},
   "outputs": [
    {
     "data": {
      "text/plain": [
       "'###########HELLO EVERYONE########ALL THE BESt#######################'"
      ]
     },
     "execution_count": 35,
     "metadata": {},
     "output_type": "execute_result"
    }
   ],
   "source": [
    "str12='###########HELLO EVERYONE########ALL THE BESt#######################'\n",
    "str12"
   ]
  },
  {
   "cell_type": "code",
   "execution_count": 36,
   "id": "66309f6b",
   "metadata": {},
   "outputs": [
    {
     "data": {
      "text/plain": [
       "'###########HELLO EVERYONE########ALL THE BESt'"
      ]
     },
     "execution_count": 36,
     "metadata": {},
     "output_type": "execute_result"
    }
   ],
   "source": [
    "str12.rstrip('#')"
   ]
  },
  {
   "cell_type": "code",
   "execution_count": 37,
   "id": "fbc299e2",
   "metadata": {},
   "outputs": [
    {
     "data": {
      "text/plain": [
       "'HELLO EVERYONE########ALL THE BESt#######################'"
      ]
     },
     "execution_count": 37,
     "metadata": {},
     "output_type": "execute_result"
    }
   ],
   "source": [
    "str12.lstrip('#')"
   ]
  },
  {
   "cell_type": "code",
   "execution_count": 38,
   "id": "487adf1d",
   "metadata": {},
   "outputs": [
    {
     "data": {
      "text/plain": [
       "'HELLO EVERYONE########ALL THE BESt'"
      ]
     },
     "execution_count": 38,
     "metadata": {},
     "output_type": "execute_result"
    }
   ],
   "source": [
    "str12.strip('#')"
   ]
  },
  {
   "cell_type": "code",
   "execution_count": 39,
   "id": "abe62c3d",
   "metadata": {},
   "outputs": [
    {
     "data": {
      "text/plain": [
       "'HEllo fRienDs HoW ArE YoU'"
      ]
     },
     "execution_count": 39,
     "metadata": {},
     "output_type": "execute_result"
    }
   ],
   "source": [
    "str13='HEllo fRienDs HoW ArE YoU'\n",
    "str13"
   ]
  },
  {
   "cell_type": "code",
   "execution_count": 40,
   "id": "a6bfefaa",
   "metadata": {},
   "outputs": [
    {
     "data": {
      "text/plain": [
       "'hello friends how are you'"
      ]
     },
     "execution_count": 40,
     "metadata": {},
     "output_type": "execute_result"
    }
   ],
   "source": [
    "str13.lower()"
   ]
  },
  {
   "cell_type": "code",
   "execution_count": 41,
   "id": "c4920405",
   "metadata": {},
   "outputs": [
    {
     "data": {
      "text/plain": [
       "'HELLO FRIENDS HOW ARE YOU'"
      ]
     },
     "execution_count": 41,
     "metadata": {},
     "output_type": "execute_result"
    }
   ],
   "source": [
    "str13.upper()"
   ]
  },
  {
   "cell_type": "code",
   "execution_count": 42,
   "id": "46b85e60",
   "metadata": {},
   "outputs": [
    {
     "data": {
      "text/plain": [
       "'@Ello fRienDs @oW ArE YoU'"
      ]
     },
     "execution_count": 42,
     "metadata": {},
     "output_type": "execute_result"
    }
   ],
   "source": [
    "str13.replace('H','@')"
   ]
  },
  {
   "cell_type": "code",
   "execution_count": 43,
   "id": "8c87b4c6",
   "metadata": {},
   "outputs": [
    {
     "data": {
      "text/plain": [
       "'HEllofRienDsHoWArEYoU'"
      ]
     },
     "execution_count": 43,
     "metadata": {},
     "output_type": "execute_result"
    }
   ],
   "source": [
    "str13.replace(' ','')"
   ]
  },
  {
   "cell_type": "code",
   "execution_count": 44,
   "id": "bdeab748",
   "metadata": {},
   "outputs": [
    {
     "name": "stdout",
     "output_type": "stream",
     "text": [
      "2\n",
      "3\n",
      "3\n"
     ]
    }
   ],
   "source": [
    "str14='ONE TWO THREE FOUR ONE TWO TWO THREE THREE FOUR'\n",
    "print(str14.count('ONE'))\n",
    "print(str14.count('TWO'))\n",
    "print(str14.count('THREE'))"
   ]
  },
  {
   "cell_type": "code",
   "execution_count": 45,
   "id": "930a1a46",
   "metadata": {},
   "outputs": [
    {
     "data": {
      "text/plain": [
       "True"
      ]
     },
     "execution_count": 45,
     "metadata": {},
     "output_type": "execute_result"
    }
   ],
   "source": [
    "str14.startswith('ONE')"
   ]
  },
  {
   "cell_type": "code",
   "execution_count": 46,
   "id": "712a2c7c",
   "metadata": {},
   "outputs": [
    {
     "data": {
      "text/plain": [
       "False"
      ]
     },
     "execution_count": 46,
     "metadata": {},
     "output_type": "execute_result"
    }
   ],
   "source": [
    "str14.endswith('ONE')"
   ]
  },
  {
   "cell_type": "code",
   "execution_count": 47,
   "id": "3f7890b3",
   "metadata": {},
   "outputs": [
    {
     "data": {
      "text/plain": [
       "'one two three four five six one three         firoz seven eight'"
      ]
     },
     "execution_count": 47,
     "metadata": {},
     "output_type": "execute_result"
    }
   ],
   "source": [
    "str15='one two three four five six one three         firoz seven eight'\n",
    "str15"
   ]
  },
  {
   "cell_type": "code",
   "execution_count": 48,
   "id": "17dd8c0d",
   "metadata": {},
   "outputs": [],
   "source": [
    "list1=str15.split()"
   ]
  },
  {
   "cell_type": "code",
   "execution_count": 49,
   "id": "e344234f",
   "metadata": {},
   "outputs": [
    {
     "data": {
      "text/plain": [
       "['one',\n",
       " 'two',\n",
       " 'three',\n",
       " 'four',\n",
       " 'five',\n",
       " 'six',\n",
       " 'one',\n",
       " 'three',\n",
       " 'firoz',\n",
       " 'seven',\n",
       " 'eight']"
      ]
     },
     "execution_count": 49,
     "metadata": {},
     "output_type": "execute_result"
    }
   ],
   "source": [
    "list1"
   ]
  },
  {
   "cell_type": "code",
   "execution_count": 50,
   "id": "1738df98",
   "metadata": {},
   "outputs": [
    {
     "name": "stdout",
     "output_type": "stream",
     "text": [
      "cost of items 55 52 50\n"
     ]
    }
   ],
   "source": [
    "item1=55\n",
    "item2=52\n",
    "item3=50\n",
    "ite=\"cost of items {} {} {}\"\n",
    "\n",
    "print(ite.format(item1,item2,item3))"
   ]
  },
  {
   "cell_type": "code",
   "execution_count": 51,
   "id": "b229353b",
   "metadata": {},
   "outputs": [
    {
     "name": "stdout",
     "output_type": "stream",
     "text": [
      "cost of items 50 52 55\n"
     ]
    }
   ],
   "source": [
    "item1=55\n",
    "item2=52\n",
    "item3=50\n",
    "ite=\"cost of items {2} {1} {0}\"\n",
    "\n",
    "print(ite.format(item1,item2,item3))"
   ]
  },
  {
   "cell_type": "code",
   "execution_count": 52,
   "id": "a24c7a2a",
   "metadata": {},
   "outputs": [
    {
     "name": "stdout",
     "output_type": "stream",
     "text": [
      "cost of items 55 52 50\n"
     ]
    }
   ],
   "source": [
    "item1=55\n",
    "item2=52\n",
    "item3=50\n",
    "ite=\"cost of items {1} {0} {2}\"\n",
    "\n",
    "print(ite.format(item2,item1,item3))"
   ]
  },
  {
   "cell_type": "code",
   "execution_count": 53,
   "id": "e67ff8aa",
   "metadata": {},
   "outputs": [
    {
     "data": {
      "text/plain": [
       "'WELCOME TO EXAMPLE'"
      ]
     },
     "execution_count": 53,
     "metadata": {},
     "output_type": "execute_result"
    }
   ],
   "source": [
    "str16='WELCOME TO EXAMPLE'\n",
    "str16"
   ]
  },
  {
   "cell_type": "code",
   "execution_count": 54,
   "id": "febd0d82",
   "metadata": {},
   "outputs": [
    {
     "data": {
      "text/plain": [
       "'           WELCOME TO EXAMPLE           '"
      ]
     },
     "execution_count": 54,
     "metadata": {},
     "output_type": "execute_result"
    }
   ],
   "source": [
    "str17=str16.center(40)\n",
    "str17"
   ]
  },
  {
   "cell_type": "code",
   "execution_count": 55,
   "id": "2e8e0027",
   "metadata": {},
   "outputs": [
    {
     "data": {
      "text/plain": [
       "'************************WELCOME TO EXAMPLE************************'"
      ]
     },
     "execution_count": 55,
     "metadata": {},
     "output_type": "execute_result"
    }
   ],
   "source": [
    "str17=str16.center(66,'*')\n",
    "str17"
   ]
  },
  {
   "cell_type": "code",
   "execution_count": 56,
   "id": "fa55e516",
   "metadata": {},
   "outputs": [
    {
     "data": {
      "text/plain": [
       "'HELLO EVEREYONE WASSUP'"
      ]
     },
     "execution_count": 56,
     "metadata": {},
     "output_type": "execute_result"
    }
   ],
   "source": [
    "str18='HELLO EVEREYONE WASSUP'\n",
    "str18"
   ]
  },
  {
   "cell_type": "code",
   "execution_count": 57,
   "id": "8e02ae43",
   "metadata": {},
   "outputs": [
    {
     "data": {
      "text/plain": [
       "'HELLO EVEREYONE WASSUP                            '"
      ]
     },
     "execution_count": 57,
     "metadata": {},
     "output_type": "execute_result"
    }
   ],
   "source": [
    "str18.ljust(50)"
   ]
  },
  {
   "cell_type": "code",
   "execution_count": 58,
   "id": "654f71b4",
   "metadata": {},
   "outputs": [
    {
     "data": {
      "text/plain": [
       "'                            HELLO EVEREYONE WASSUP'"
      ]
     },
     "execution_count": 58,
     "metadata": {},
     "output_type": "execute_result"
    }
   ],
   "source": [
    "str18.rjust(50)"
   ]
  },
  {
   "cell_type": "code",
   "execution_count": 59,
   "id": "de1e1704",
   "metadata": {},
   "outputs": [
    {
     "data": {
      "text/plain": [
       "'HELLO EVEREYONE WASSUP****************************'"
      ]
     },
     "execution_count": 59,
     "metadata": {},
     "output_type": "execute_result"
    }
   ],
   "source": [
    "str18.ljust(50,'*')"
   ]
  },
  {
   "cell_type": "code",
   "execution_count": 60,
   "id": "8ff807ff",
   "metadata": {},
   "outputs": [
    {
     "data": {
      "text/plain": [
       "'****************************HELLO EVEREYONE WASSUP'"
      ]
     },
     "execution_count": 60,
     "metadata": {},
     "output_type": "execute_result"
    }
   ],
   "source": [
    "str18.rjust(50,'*')"
   ]
  },
  {
   "cell_type": "code",
   "execution_count": 61,
   "id": "240ada14",
   "metadata": {},
   "outputs": [
    {
     "data": {
      "text/plain": [
       "'**************HELLO EVEREYONE WASSUP**************'"
      ]
     },
     "execution_count": 61,
     "metadata": {},
     "output_type": "execute_result"
    }
   ],
   "source": [
    "str18.center(50,'*')"
   ]
  },
  {
   "cell_type": "code",
   "execution_count": 62,
   "id": "5e2898bf",
   "metadata": {},
   "outputs": [
    {
     "data": {
      "text/plain": [
       "28"
      ]
     },
     "execution_count": 62,
     "metadata": {},
     "output_type": "execute_result"
    }
   ],
   "source": [
    "str19='one two three four five six seven eight nine ten'\n",
    "loc=str19.find('seven')\n",
    "loc"
   ]
  },
  {
   "cell_type": "code",
   "execution_count": 63,
   "id": "a9f07861",
   "metadata": {},
   "outputs": [
    {
     "data": {
      "text/plain": [
       "28"
      ]
     },
     "execution_count": 63,
     "metadata": {},
     "output_type": "execute_result"
    }
   ],
   "source": [
    "str20='one two three four five six seven eight nine ten'\n",
    "inde=str19.index('seven')\n",
    "inde"
   ]
  },
  {
   "cell_type": "code",
   "execution_count": 64,
   "id": "c273c64a",
   "metadata": {},
   "outputs": [
    {
     "name": "stdout",
     "output_type": "stream",
     "text": [
      "False\n",
      "True\n",
      "True\n"
     ]
    }
   ],
   "source": [
    "str21='123348275'\n",
    "print(str21.isalpha())\n",
    "print(str21.isnumeric())\n",
    "print(str21.isdecimal())"
   ]
  },
  {
   "cell_type": "code",
   "execution_count": 65,
   "id": "c85133a6",
   "metadata": {},
   "outputs": [
    {
     "name": "stdout",
     "output_type": "stream",
     "text": [
      "True\n",
      "True\n",
      "False\n",
      "False\n"
     ]
    }
   ],
   "source": [
    "str22='abcdefghi'\n",
    "print(str22.isalpha())\n",
    "print(str22.isalnum())\n",
    "print(str22.isnumeric())\n",
    "print(str22.isdecimal())"
   ]
  },
  {
   "cell_type": "code",
   "execution_count": 66,
   "id": "5a558b1f",
   "metadata": {},
   "outputs": [
    {
     "name": "stdout",
     "output_type": "stream",
     "text": [
      "False\n",
      "True\n",
      "False\n",
      "False\n"
     ]
    }
   ],
   "source": [
    "str23='abcdefgh123i'\n",
    "print(str23.isalpha())\n",
    "print(str23.isalnum())\n",
    "print(str23.isnumeric())\n",
    "print(str23.isdecimal())"
   ]
  },
  {
   "cell_type": "code",
   "execution_count": 67,
   "id": "05342f17",
   "metadata": {},
   "outputs": [
    {
     "name": "stdout",
     "output_type": "stream",
     "text": [
      "True\n",
      "False\n"
     ]
    }
   ],
   "source": [
    "str24='SHAIK FIROZ'\n",
    "print(str24.isupper())\n",
    "print(str24.islower())"
   ]
  },
  {
   "cell_type": "code",
   "execution_count": 68,
   "id": "d9b1d2cf",
   "metadata": {},
   "outputs": [
    {
     "name": "stdout",
     "output_type": "stream",
     "text": [
      "False\n",
      "True\n"
     ]
    }
   ],
   "source": [
    "str24='shaik firoz'\n",
    "print(str24.isupper())\n",
    "print(str24.islower())"
   ]
  },
  {
   "cell_type": "code",
   "execution_count": 69,
   "id": "4a1dbd73",
   "metadata": {},
   "outputs": [
    {
     "data": {
      "text/plain": [
       "49"
      ]
     },
     "execution_count": 69,
     "metadata": {},
     "output_type": "execute_result"
    }
   ],
   "source": [
    "str25='one two three four five six seven eight nine ten one'\n",
    "str25.rfind(\"one\")"
   ]
  },
  {
   "cell_type": "code",
   "execution_count": 70,
   "id": "d0bf3195",
   "metadata": {},
   "outputs": [
    {
     "data": {
      "text/plain": [
       "49"
      ]
     },
     "execution_count": 70,
     "metadata": {},
     "output_type": "execute_result"
    }
   ],
   "source": [
    "str26='one two three four five six seven eight nine ten one'\n",
    "str26.rindex(\"one\")"
   ]
  },
  {
   "cell_type": "code",
   "execution_count": 71,
   "id": "b3446f41",
   "metadata": {},
   "outputs": [
    {
     "data": {
      "text/plain": [
       "'           sfji fjif    fifl'"
      ]
     },
     "execution_count": 71,
     "metadata": {},
     "output_type": "execute_result"
    }
   ],
   "source": [
    "str27='           sfji fjif    fifl                   '\n",
    "str27.rstrip()"
   ]
  },
  {
   "cell_type": "code",
   "execution_count": 72,
   "id": "f9a8d0d1",
   "metadata": {},
   "outputs": [
    {
     "data": {
      "text/plain": [
       "'sfji fjif    fifl                   '"
      ]
     },
     "execution_count": 72,
     "metadata": {},
     "output_type": "execute_result"
    }
   ],
   "source": [
    "str27='           sfji fjif    fifl                   '\n",
    "str27.lstrip()"
   ]
  },
  {
   "cell_type": "code",
   "execution_count": 73,
   "id": "1e901874",
   "metadata": {},
   "outputs": [
    {
     "data": {
      "text/plain": [
       "'sfji fjif    fifl'"
      ]
     },
     "execution_count": 73,
     "metadata": {},
     "output_type": "execute_result"
    }
   ],
   "source": [
    "str27='           sfji fjif    fifl                   '\n",
    "str27.strip()"
   ]
  },
  {
   "cell_type": "code",
   "execution_count": 74,
   "id": "510d2a31",
   "metadata": {},
   "outputs": [
    {
     "name": "stdout",
     "output_type": "stream",
     "text": [
      "hii welcome the new programming language 'firoz'\n",
      "hii welcome the new programming language \"firoz\"\n",
      "hii welcome the new programming language \"firoz\"\n",
      "hii welcome the new programming language 'firoz'\n"
     ]
    }
   ],
   "source": [
    "#using a double quotes in side a string is not possible \n",
    "str28=\"hii welcome the new programming language 'firoz'\"\n",
    "str29='hii welcome the new programming language \"firoz\"'\n",
    "#or\n",
    "str30=\"hii welcome the new programming language \\\"firoz\\\"\"\n",
    "str31='hii welcome the new programming language \\'firoz\\''\n",
    "print(str28)\n",
    "print(str29)\n",
    "print(str30)\n",
    "print(str31)"
   ]
  },
  {
   "cell_type": "code",
   "execution_count": 75,
   "id": "c77162a2",
   "metadata": {},
   "outputs": [
    {
     "name": "stdout",
     "output_type": "stream",
     "text": [
      "<class 'list'>\n"
     ]
    }
   ],
   "source": [
    "list1=[]\n",
    "print(type(list1))"
   ]
  },
  {
   "cell_type": "code",
   "execution_count": 76,
   "id": "adf1fa35",
   "metadata": {},
   "outputs": [
    {
     "name": "stdout",
     "output_type": "stream",
     "text": [
      "[1, 2, 4, 3]\n",
      "[3.2, 2.3, 3.4, 5.34, 6.423]\n",
      "['one', 'two', 'three', 'four']\n",
      "['one', 1, 2.34, 'two', 'three', 5, 34.4]\n",
      "['one', 2, 3, ['two', 'three'], [3, 2, 4.5]]\n",
      "[1, 2, 'one', (1, 2, 4, 5), {233, 14, 23}, ['two', 'three']]\n"
     ]
    }
   ],
   "source": [
    "list2=[1,2,4,3]\n",
    "list3=[3.2,2.3,3.4,5.34,6.423]\n",
    "list4=['one','two','three','four']\n",
    "list5=['one',1,2.34,'two','three',5,34.4]\n",
    "list6=['one',2,3,['two','three'],[3,2,4.5]]\n",
    "list7=[1,2,'one',(1,2,4,5),{14,23,233},['two','three']]\n",
    "print(list2)\n",
    "print(list3)\n",
    "print(list4)\n",
    "print(list5)\n",
    "print(list6)\n",
    "print(list7)"
   ]
  },
  {
   "cell_type": "code",
   "execution_count": 77,
   "id": "0a5f1375",
   "metadata": {},
   "outputs": [
    {
     "data": {
      "text/plain": [
       "6"
      ]
     },
     "execution_count": 77,
     "metadata": {},
     "output_type": "execute_result"
    }
   ],
   "source": [
    "len(list7)"
   ]
  },
  {
   "cell_type": "code",
   "execution_count": 78,
   "id": "3d7ce187",
   "metadata": {},
   "outputs": [
    {
     "name": "stdout",
     "output_type": "stream",
     "text": [
      "1\n",
      "5.34\n",
      "four\n",
      "2.34\n",
      "two\n",
      "(1, 2, 4, 5)\n"
     ]
    }
   ],
   "source": [
    "print(list2[0])\n",
    "print(list3[3])\n",
    "print(list4[3])\n",
    "print(list5[2])\n",
    "print(list6[3][0])\n",
    "print(list7[3])"
   ]
  },
  {
   "cell_type": "code",
   "execution_count": 79,
   "id": "48cf7633",
   "metadata": {},
   "outputs": [
    {
     "name": "stdout",
     "output_type": "stream",
     "text": [
      "['one', 'two', 'three']\n",
      "['three', 'four', 'five']\n",
      "['one', 'two', 'three']\n",
      "['one', 'two']\n",
      "['six', 'seven', 'eight']\n",
      "['seven', 'eight']\n",
      "eight\n",
      "['one', 'two', 'three', 'four', 'five', 'six', 'seven', 'eight']\n",
      "['one', 'two', 'three', 'four', 'five', 'six']\n"
     ]
    }
   ],
   "source": [
    "mylist = ['one' , 'two' , 'three' , 'four' , 'five' , 'six' , 'seven' , 'eight']\n",
    "\n",
    "print(mylist[0:3])             # Return all items from 0th to 3rd index location excluding the 3rd index item \n",
    "print(mylist[2:5])             # List all items from 2nd to 5th index location excluding the item at 5th index\n",
    "print(mylist[:3])                   # Return first three items\n",
    "print(mylist[:2])                          # Return first two items\n",
    "print(mylist[-3:])                         # Return last three items\n",
    "print(mylist[-2:])                          # Return last two items\n",
    "print(mylist[-1])                         # Return last item of the list\n",
    "print(mylist[:])                          # Return whole list\n",
    "print(mylist[:-2])                          # Return whole list excluding the last two items"
   ]
  },
  {
   "cell_type": "code",
   "execution_count": 80,
   "id": "534c655b",
   "metadata": {},
   "outputs": [],
   "source": [
    "mylist.append('ten')                # Add an item to the end of the list "
   ]
  },
  {
   "cell_type": "code",
   "execution_count": 81,
   "id": "5e5a8fef",
   "metadata": {},
   "outputs": [
    {
     "name": "stdout",
     "output_type": "stream",
     "text": [
      "['one', 'two', 'three', 'four', 'five', 'six', 'seven', 'eight', 'ten']\n"
     ]
    }
   ],
   "source": [
    "print(mylist)"
   ]
  },
  {
   "cell_type": "code",
   "execution_count": 82,
   "id": "ecd6deb1",
   "metadata": {},
   "outputs": [
    {
     "name": "stdout",
     "output_type": "stream",
     "text": [
      "None\n"
     ]
    }
   ],
   "source": [
    "print(mylist.insert(1,\"one\"))"
   ]
  },
  {
   "cell_type": "code",
   "execution_count": 83,
   "id": "e239f734",
   "metadata": {},
   "outputs": [
    {
     "name": "stdout",
     "output_type": "stream",
     "text": [
      "['one', 'one', 'two', 'three', 'four', 'five', 'six', 'seven', 'eight', 'ten']\n"
     ]
    }
   ],
   "source": [
    "print(mylist)"
   ]
  },
  {
   "cell_type": "code",
   "execution_count": 84,
   "id": "a235dcc7",
   "metadata": {},
   "outputs": [
    {
     "name": "stdout",
     "output_type": "stream",
     "text": [
      "None\n"
     ]
    }
   ],
   "source": [
    "print(mylist.remove('one'))"
   ]
  },
  {
   "cell_type": "code",
   "execution_count": 85,
   "id": "8492caeb",
   "metadata": {},
   "outputs": [
    {
     "name": "stdout",
     "output_type": "stream",
     "text": [
      "['one', 'two', 'three', 'four', 'five', 'six', 'seven', 'eight', 'ten']\n"
     ]
    }
   ],
   "source": [
    "print(mylist)"
   ]
  },
  {
   "cell_type": "code",
   "execution_count": 86,
   "id": "327edfc2",
   "metadata": {},
   "outputs": [
    {
     "data": {
      "text/plain": [
       "'ten'"
      ]
     },
     "execution_count": 86,
     "metadata": {},
     "output_type": "execute_result"
    }
   ],
   "source": [
    "mylist.pop()"
   ]
  },
  {
   "cell_type": "code",
   "execution_count": 87,
   "id": "b409c5b2",
   "metadata": {},
   "outputs": [
    {
     "name": "stdout",
     "output_type": "stream",
     "text": [
      "['one', 'two', 'three', 'four', 'five', 'six', 'seven', 'eight']\n"
     ]
    }
   ],
   "source": [
    "print(mylist)"
   ]
  },
  {
   "cell_type": "code",
   "execution_count": 88,
   "id": "d2132f76",
   "metadata": {},
   "outputs": [
    {
     "data": {
      "text/plain": [
       "'eight'"
      ]
     },
     "execution_count": 88,
     "metadata": {},
     "output_type": "execute_result"
    }
   ],
   "source": [
    "mylist.pop()"
   ]
  },
  {
   "cell_type": "code",
   "execution_count": 89,
   "id": "10ec532d",
   "metadata": {},
   "outputs": [
    {
     "name": "stdout",
     "output_type": "stream",
     "text": [
      "['one', 'two', 'three', 'four', 'five', 'six', 'seven']\n"
     ]
    }
   ],
   "source": [
    "print(mylist)"
   ]
  },
  {
   "cell_type": "code",
   "execution_count": 90,
   "id": "52a2c985",
   "metadata": {},
   "outputs": [
    {
     "data": {
      "text/plain": [
       "'five'"
      ]
     },
     "execution_count": 90,
     "metadata": {},
     "output_type": "execute_result"
    }
   ],
   "source": [
    "mylist.pop(4)"
   ]
  },
  {
   "cell_type": "code",
   "execution_count": 91,
   "id": "6688ae7a",
   "metadata": {},
   "outputs": [
    {
     "name": "stdout",
     "output_type": "stream",
     "text": [
      "['one', 'two', 'three', 'four', 'six', 'seven']\n"
     ]
    }
   ],
   "source": [
    "print(mylist)"
   ]
  },
  {
   "cell_type": "code",
   "execution_count": 92,
   "id": "3b043b5a",
   "metadata": {},
   "outputs": [
    {
     "name": "stdout",
     "output_type": "stream",
     "text": [
      "[1, 'two', 3, 'four', 5, 'seven']\n"
     ]
    }
   ],
   "source": [
    "# changing the values of string\n",
    "mylist[0]=1\n",
    "mylist[2]=3\n",
    "mylist[4]=5\n",
    "print(mylist)"
   ]
  },
  {
   "cell_type": "code",
   "execution_count": 93,
   "id": "2d8f9dc7",
   "metadata": {},
   "outputs": [
    {
     "name": "stdout",
     "output_type": "stream",
     "text": [
      "[]\n"
     ]
    }
   ],
   "source": [
    "mylist.clear()\n",
    "print(mylist)"
   ]
  },
  {
   "cell_type": "code",
   "execution_count": 94,
   "id": "1595aded",
   "metadata": {},
   "outputs": [],
   "source": [
    "del mylist"
   ]
  },
  {
   "cell_type": "code",
   "execution_count": 95,
   "id": "06e52fc3",
   "metadata": {},
   "outputs": [
    {
     "data": {
      "text/plain": [
       "(2303078562560, 2303078562560)"
      ]
     },
     "execution_count": 95,
     "metadata": {},
     "output_type": "execute_result"
    }
   ],
   "source": [
    "mylist = ['one', 'two', 'three', 'four', 'five', 'six', 'seven', 'eight', 'nine']\n",
    "mylist1 = mylist                               # Create a new reference \"mylist1\" \n",
    "id(mylist) , id(mylist1)                       # The address of both mylist & mylist1 will be the same "
   ]
  },
  {
   "cell_type": "code",
   "execution_count": 96,
   "id": "20e04e2f",
   "metadata": {},
   "outputs": [
    {
     "name": "stdout",
     "output_type": "stream",
     "text": [
      "['one', 'two', 'three', 4, 'five', 'six', 'seven', 'eight', 'nine']\n",
      "['one', 'two', 'three', 4, 'five', 'six', 'seven', 'eight', 'nine']\n"
     ]
    }
   ],
   "source": [
    "mylist1[3]=4\n",
    "print(mylist1)\n",
    "print(mylist)"
   ]
  },
  {
   "cell_type": "code",
   "execution_count": 97,
   "id": "3fbec5d7",
   "metadata": {},
   "outputs": [
    {
     "name": "stdout",
     "output_type": "stream",
     "text": [
      "['one', 'two', 'three', 'four', 'five', 'six', 'seven', 'eight', 'nine']\n"
     ]
    },
    {
     "data": {
      "text/plain": [
       "(2303078809088, 2303077819264)"
      ]
     },
     "execution_count": 97,
     "metadata": {},
     "output_type": "execute_result"
    }
   ],
   "source": [
    "mylist = ['one', 'two', 'three', 'four', 'five', 'six', 'seven', 'eight', 'nine']\n",
    "mylist2=mylist.copy()\n",
    "print(mylist2)\n",
    "id(mylist),id(mylist2)"
   ]
  },
  {
   "cell_type": "code",
   "execution_count": 98,
   "id": "10cecc7b",
   "metadata": {},
   "outputs": [
    {
     "name": "stdout",
     "output_type": "stream",
     "text": [
      "[1, 'two', 'three', 'four', 'five', 'six', 'seven', 'eight', 'nine']\n",
      "['one', 'two', 'three', 'four', 'five', 'six', 'seven', 'eight', 'nine']\n"
     ]
    }
   ],
   "source": [
    "mylist[0]=1\n",
    "print(mylist)\n",
    "print(mylist2)"
   ]
  },
  {
   "cell_type": "code",
   "execution_count": 99,
   "id": "3c7795b4",
   "metadata": {},
   "outputs": [
    {
     "name": "stdout",
     "output_type": "stream",
     "text": [
      "['one', 'two', 'three', 'four', 'five', 'six', 'seven', 'eight']\n"
     ]
    }
   ],
   "source": [
    "list1=['one','two','three','four']\n",
    "list2=['five','six','seven','eight']\n",
    "print(list1+list2)"
   ]
  },
  {
   "cell_type": "code",
   "execution_count": 100,
   "id": "d2eaab2f",
   "metadata": {},
   "outputs": [
    {
     "data": {
      "text/plain": [
       "['one', 'two', 'three', 'four', 'five', 'six', 'seven', 'eight']"
      ]
     },
     "execution_count": 100,
     "metadata": {},
     "output_type": "execute_result"
    }
   ],
   "source": [
    "list1=['one','two','three','four']\n",
    "list2=['five','six','seven','eight']\n",
    "list1.extend(list2)\n",
    "list1"
   ]
  },
  {
   "cell_type": "markdown",
   "id": "f00c5e82",
   "metadata": {},
   "source": [
    "### list membership (in, not in)"
   ]
  },
  {
   "cell_type": "code",
   "execution_count": 101,
   "id": "533ea697",
   "metadata": {},
   "outputs": [
    {
     "data": {
      "text/plain": [
       "['one', 'two', 'three', 'four', 'five', 'six', 'seven', 'eight']"
      ]
     },
     "execution_count": 101,
     "metadata": {},
     "output_type": "execute_result"
    }
   ],
   "source": [
    "list1"
   ]
  },
  {
   "cell_type": "code",
   "execution_count": 102,
   "id": "ec77141b",
   "metadata": {},
   "outputs": [
    {
     "data": {
      "text/plain": [
       "True"
      ]
     },
     "execution_count": 102,
     "metadata": {},
     "output_type": "execute_result"
    }
   ],
   "source": [
    "'one' in list1"
   ]
  },
  {
   "cell_type": "code",
   "execution_count": 103,
   "id": "04a2ee06",
   "metadata": {},
   "outputs": [
    {
     "data": {
      "text/plain": [
       "False"
      ]
     },
     "execution_count": 103,
     "metadata": {},
     "output_type": "execute_result"
    }
   ],
   "source": [
    "'five' not in list1"
   ]
  },
  {
   "cell_type": "code",
   "execution_count": 104,
   "id": "60d32184",
   "metadata": {},
   "outputs": [
    {
     "name": "stdout",
     "output_type": "stream",
     "text": [
      "yes three is in list1\n"
     ]
    }
   ],
   "source": [
    "if 'three' in list1:\n",
    "    print('yes three is in list1')\n",
    "else:\n",
    "    print('no there is no three in list')"
   ]
  },
  {
   "cell_type": "code",
   "execution_count": 105,
   "id": "a80e24da",
   "metadata": {},
   "outputs": [
    {
     "name": "stdout",
     "output_type": "stream",
     "text": [
      "eleven is not in list1\n"
     ]
    }
   ],
   "source": [
    "if 'eleven' not in list1:\n",
    "    print('eleven is not in list1')\n",
    "else:\n",
    "    print('eleven is in list1')"
   ]
  },
  {
   "cell_type": "markdown",
   "id": "9e66e475",
   "metadata": {},
   "source": [
    "### reverse and sort list"
   ]
  },
  {
   "cell_type": "code",
   "execution_count": 106,
   "id": "0d23c5dd",
   "metadata": {},
   "outputs": [
    {
     "data": {
      "text/plain": [
       "['one', 'two', 'three', 'four', 'five', 'six', 'seven', 'eight']"
      ]
     },
     "execution_count": 106,
     "metadata": {},
     "output_type": "execute_result"
    }
   ],
   "source": [
    "list1"
   ]
  },
  {
   "cell_type": "code",
   "execution_count": 107,
   "id": "b6ca3a5d",
   "metadata": {},
   "outputs": [
    {
     "name": "stdout",
     "output_type": "stream",
     "text": [
      "None\n"
     ]
    }
   ],
   "source": [
    "print(list1.reverse())"
   ]
  },
  {
   "cell_type": "code",
   "execution_count": 108,
   "id": "94ed1f0f",
   "metadata": {},
   "outputs": [
    {
     "data": {
      "text/plain": [
       "['eight', 'seven', 'six', 'five', 'four', 'three', 'two', 'one']"
      ]
     },
     "execution_count": 108,
     "metadata": {},
     "output_type": "execute_result"
    }
   ],
   "source": [
    "list1"
   ]
  },
  {
   "cell_type": "code",
   "execution_count": 109,
   "id": "59a377bf",
   "metadata": {},
   "outputs": [
    {
     "data": {
      "text/plain": [
       "['one', 'two', 'three', 'four', 'five', 'six', 'seven', 'eight']"
      ]
     },
     "execution_count": 109,
     "metadata": {},
     "output_type": "execute_result"
    }
   ],
   "source": [
    "list1[::-1]"
   ]
  },
  {
   "cell_type": "code",
   "execution_count": 110,
   "id": "c0695658",
   "metadata": {},
   "outputs": [
    {
     "data": {
      "text/plain": [
       "[1, 2, 3, 4, 5, 7, 8, 12, 22, 24, 32, 33, 35, 43, 45, 55, 55, 56, 64, 72, 78]"
      ]
     },
     "execution_count": 110,
     "metadata": {},
     "output_type": "execute_result"
    }
   ],
   "source": [
    "mylist=[1,22,4,32,24,55,56,8,3,35,7,78,43,55,5,72,12,45,64,2,33]\n",
    "mylist.sort()\n",
    "mylist"
   ]
  },
  {
   "cell_type": "code",
   "execution_count": 111,
   "id": "f1c981cf",
   "metadata": {},
   "outputs": [
    {
     "data": {
      "text/plain": [
       "[78, 72, 64, 56, 55, 55, 45, 43, 35, 33, 32, 24, 22, 12, 8, 7, 5, 4, 3, 2, 1]"
      ]
     },
     "execution_count": 111,
     "metadata": {},
     "output_type": "execute_result"
    }
   ],
   "source": [
    "mylist.sort(reverse=True)\n",
    "mylist"
   ]
  },
  {
   "cell_type": "code",
   "execution_count": 112,
   "id": "8a69a126",
   "metadata": {},
   "outputs": [
    {
     "name": "stdout",
     "output_type": "stream",
     "text": [
      "[34, 32, 33, 26, 5, 43, 52, 676, 76]\n"
     ]
    },
    {
     "data": {
      "text/plain": [
       "[5, 26, 32, 33, 34, 43, 52, 76, 676]"
      ]
     },
     "execution_count": 112,
     "metadata": {},
     "output_type": "execute_result"
    }
   ],
   "source": [
    "list3=[34,32,33,26,5,43,52,676,76]\n",
    "print(list3)\n",
    "sorted(list3,reverse=False)"
   ]
  },
  {
   "cell_type": "markdown",
   "id": "0a29e33c",
   "metadata": {},
   "source": [
    "### loop through a list"
   ]
  },
  {
   "cell_type": "code",
   "execution_count": 113,
   "id": "f9f833d3",
   "metadata": {},
   "outputs": [],
   "source": [
    "list1=['one', 'two', 'three', 'four', 'five', 'six', 'seven', 'eight']"
   ]
  },
  {
   "cell_type": "code",
   "execution_count": 114,
   "id": "4cec4481",
   "metadata": {},
   "outputs": [
    {
     "data": {
      "text/plain": [
       "['one', 'two', 'three', 'four', 'five', 'six', 'seven', 'eight']"
      ]
     },
     "execution_count": 114,
     "metadata": {},
     "output_type": "execute_result"
    }
   ],
   "source": [
    "list1"
   ]
  },
  {
   "cell_type": "code",
   "execution_count": 115,
   "id": "e7f50d9f",
   "metadata": {},
   "outputs": [
    {
     "name": "stdout",
     "output_type": "stream",
     "text": [
      "one\n",
      "two\n",
      "three\n",
      "four\n",
      "five\n",
      "six\n",
      "seven\n",
      "eight\n"
     ]
    }
   ],
   "source": [
    "for i in list1:\n",
    "    print(i)"
   ]
  },
  {
   "cell_type": "code",
   "execution_count": 116,
   "id": "17d96097",
   "metadata": {},
   "outputs": [
    {
     "name": "stdout",
     "output_type": "stream",
     "text": [
      "(0, 'one')\n",
      "(1, 'two')\n",
      "(2, 'three')\n",
      "(3, 'four')\n",
      "(4, 'five')\n",
      "(5, 'six')\n",
      "(6, 'seven')\n",
      "(7, 'eight')\n"
     ]
    }
   ],
   "source": [
    "for i in enumerate(list1):\n",
    "    print(i)"
   ]
  },
  {
   "cell_type": "markdown",
   "id": "55321ac1",
   "metadata": {},
   "source": [
    "## count"
   ]
  },
  {
   "cell_type": "code",
   "execution_count": 117,
   "id": "5dcfdf33",
   "metadata": {},
   "outputs": [],
   "source": [
    "lst1=['one', 'two', 'three', 'one','three','four', 'five', 'six','six', 'seven', 'eight']"
   ]
  },
  {
   "cell_type": "code",
   "execution_count": 118,
   "id": "56622382",
   "metadata": {},
   "outputs": [
    {
     "name": "stdout",
     "output_type": "stream",
     "text": [
      "2\n",
      "2\n",
      "2\n",
      "1\n"
     ]
    }
   ],
   "source": [
    "print(lst1.count('one'))\n",
    "print(lst1.count('three'))\n",
    "print(lst1.count('six'))\n",
    "print(lst1.count('seven'))"
   ]
  },
  {
   "cell_type": "code",
   "execution_count": 119,
   "id": "49db6e5b",
   "metadata": {},
   "outputs": [],
   "source": [
    "l1=[1,2,3,5,0]"
   ]
  },
  {
   "cell_type": "code",
   "execution_count": 120,
   "id": "48ce25b0",
   "metadata": {},
   "outputs": [
    {
     "data": {
      "text/plain": [
       "False"
      ]
     },
     "execution_count": 120,
     "metadata": {},
     "output_type": "execute_result"
    }
   ],
   "source": [
    "all(l1)"
   ]
  },
  {
   "cell_type": "code",
   "execution_count": 121,
   "id": "0667303f",
   "metadata": {},
   "outputs": [
    {
     "data": {
      "text/plain": [
       "True"
      ]
     },
     "execution_count": 121,
     "metadata": {},
     "output_type": "execute_result"
    }
   ],
   "source": [
    "any(l1)"
   ]
  },
  {
   "cell_type": "code",
   "execution_count": 122,
   "id": "93e2198d",
   "metadata": {},
   "outputs": [],
   "source": [
    "l2=[1,2,3,5,True,False]"
   ]
  },
  {
   "cell_type": "code",
   "execution_count": 123,
   "id": "9eb05c35",
   "metadata": {},
   "outputs": [
    {
     "name": "stdout",
     "output_type": "stream",
     "text": [
      "False\n",
      "True\n"
     ]
    }
   ],
   "source": [
    "print(all(l2))\n",
    "print(any(l2))"
   ]
  },
  {
   "cell_type": "code",
   "execution_count": 124,
   "id": "50dbaa3c",
   "metadata": {},
   "outputs": [],
   "source": [
    "l3=[1,2,3,5,True]"
   ]
  },
  {
   "cell_type": "code",
   "execution_count": 125,
   "id": "1e7c7f7d",
   "metadata": {},
   "outputs": [
    {
     "name": "stdout",
     "output_type": "stream",
     "text": [
      "True\n",
      "True\n"
     ]
    }
   ],
   "source": [
    "print(all(l3))\n",
    "print(any(l3))"
   ]
  },
  {
   "cell_type": "markdown",
   "id": "4d6fc9f8",
   "metadata": {},
   "source": [
    "## List comprehension"
   ]
  },
  {
   "cell_type": "code",
   "execution_count": 126,
   "id": "73943524",
   "metadata": {},
   "outputs": [
    {
     "name": "stdout",
     "output_type": "stream",
     "text": [
      "FIROZ\n"
     ]
    }
   ],
   "source": [
    "str1='FIROZ'\n",
    "print(str1)"
   ]
  },
  {
   "cell_type": "code",
   "execution_count": 127,
   "id": "e12d3198",
   "metadata": {},
   "outputs": [
    {
     "data": {
      "text/plain": [
       "'HELLO PEOPLE'"
      ]
     },
     "execution_count": 127,
     "metadata": {},
     "output_type": "execute_result"
    }
   ],
   "source": [
    "lst2=[ i for i in str1 ]\n",
    "str2"
   ]
  },
  {
   "cell_type": "code",
   "execution_count": 128,
   "id": "3832b2c2",
   "metadata": {},
   "outputs": [
    {
     "name": "stdout",
     "output_type": "stream",
     "text": [
      "[0, 2, 4, 6, 8, 10, 12, 14, 16, 18, 20, 22, 24, 26, 28, 30, 32, 34, 36, 38, 40, 42, 44, 46, 48]\n"
     ]
    }
   ],
   "source": [
    "lst3=[ i for i in range(50) if i%2==0 ]\n",
    "print(lst3)"
   ]
  },
  {
   "cell_type": "code",
   "execution_count": 129,
   "id": "27b6ea40",
   "metadata": {},
   "outputs": [
    {
     "name": "stdout",
     "output_type": "stream",
     "text": [
      "[1, 3, 5, 7, 9, 11, 13, 15, 17, 19, 21, 23, 25, 27, 29, 31, 33, 35, 37, 39, 41, 43, 45, 47, 49]\n"
     ]
    }
   ],
   "source": [
    "lst4=[ i for i in range(50) if i%2==1]\n",
    "print(lst4)"
   ]
  },
  {
   "cell_type": "code",
   "execution_count": 130,
   "id": "65894e30",
   "metadata": {},
   "outputs": [
    {
     "name": "stdout",
     "output_type": "stream",
     "text": [
      "[10, 20, 30, 40, 50, 60, 70]\n"
     ]
    }
   ],
   "source": [
    "lst5=[1,2,3,4,5,6,7]\n",
    "lst6=[i*10 for i in lst5]\n",
    "print(lst6)"
   ]
  },
  {
   "cell_type": "code",
   "execution_count": 131,
   "id": "04bc04b1",
   "metadata": {},
   "outputs": [
    {
     "name": "stdout",
     "output_type": "stream",
     "text": [
      "[0, 12, 24, 36, 48, 60, 72, 84, 96, 108, 120, 132, 144, 156, 168, 180, 192, 204, 216, 228, 240, 252, 264, 276, 288]\n"
     ]
    }
   ],
   "source": [
    "lst7=[i for i in range(300) if i%2==0 if i%3==0 if i%4==0]\n",
    "print(lst7)"
   ]
  },
  {
   "cell_type": "code",
   "execution_count": 132,
   "id": "657a1d2e",
   "metadata": {},
   "outputs": [
    {
     "name": "stdout",
     "output_type": "stream",
     "text": [
      "0 is even number\n",
      "1 is odd number\n",
      "2 is even number\n",
      "3 is odd number\n",
      "4 is even number\n",
      "5 is odd number\n",
      "6 is even number\n",
      "7 is odd number\n",
      "8 is even number\n",
      "9 is odd number\n"
     ]
    }
   ],
   "source": [
    "for i in range(10):\n",
    "    if i%2==0:\n",
    "        print('{} is even number'.format(i))\n",
    "    else:\n",
    "        print('{} is odd number'.format(i))"
   ]
  },
  {
   "cell_type": "code",
   "execution_count": 133,
   "id": "0ded0135",
   "metadata": {},
   "outputs": [
    {
     "data": {
      "text/plain": [
       "['1', '2', '3', '4', '5', '6', '7', '8', '9']"
      ]
     },
     "execution_count": 133,
     "metadata": {},
     "output_type": "execute_result"
    }
   ],
   "source": [
    "lst8='one 1 two 2 three 3 four 4 five 5 six 6 seven 7 eight 8 nine 9'\n",
    "lst9=[i for i in lst8 if i.isdigit()]\n",
    "lst9"
   ]
  },
  {
   "cell_type": "code",
   "execution_count": 134,
   "id": "d27ed24c",
   "metadata": {},
   "outputs": [
    {
     "name": "stdout",
     "output_type": "stream",
     "text": [
      "['o', 'n', 'e', 't', 'w', 'o', 't', 'h', 'r', 'e', 'e', 'f', 'o', 'u', 'r']\n"
     ]
    }
   ],
   "source": [
    "lst10='one 1 two 2 three 3 four'\n",
    "lst11=[i for i in lst10 if i.isalpha()]\n",
    "print(lst11)"
   ]
  },
  {
   "cell_type": "markdown",
   "id": "2cfd9c4e",
   "metadata": {},
   "source": [
    "## tuples"
   ]
  },
  {
   "cell_type": "code",
   "execution_count": 135,
   "id": "b94d25bc",
   "metadata": {},
   "outputs": [
    {
     "data": {
      "text/plain": [
       "tuple"
      ]
     },
     "execution_count": 135,
     "metadata": {},
     "output_type": "execute_result"
    }
   ],
   "source": [
    "tup=()\n",
    "type(tup)"
   ]
  },
  {
   "cell_type": "code",
   "execution_count": 136,
   "id": "7ee38b42",
   "metadata": {},
   "outputs": [],
   "source": [
    "tup1 = (10,30,60)                                        # tuple of integers numbers\n",
    "tup2 = (10.77,30.66,60.89)                               # tuple of float numbers\n",
    "tup3 = ('one','two' , \"three\")                           # tuple of strings\n",
    "tup4 = ('firoz', 25 ,(50, 100),(150, 90))                 # Nested tuples\n",
    "tup5 = (100, 'firoz', 17.765)                             # Tuple of mixed data types\n",
    "tup6 = ('firoz', 25 ,[50, 100],[150, 90] , {'shaik' , 'firoz'} , (99,22,33))\n"
   ]
  },
  {
   "cell_type": "code",
   "execution_count": 137,
   "id": "5add7e2a",
   "metadata": {},
   "outputs": [
    {
     "name": "stdout",
     "output_type": "stream",
     "text": [
      "(10, 30, 60)\n",
      "(10.77, 30.66, 60.89)\n",
      "('one', 'two', 'three')\n",
      "('firoz', 25, (50, 100), (150, 90))\n",
      "(100, 'firoz', 17.765)\n",
      "('firoz', 25, [50, 100], [150, 90], {'firoz', 'shaik'}, (99, 22, 33))\n"
     ]
    }
   ],
   "source": [
    "print(tup1)\n",
    "print(tup2)\n",
    "print(tup3)\n",
    "print(tup4)\n",
    "print(tup5)\n",
    "print(tup6)"
   ]
  },
  {
   "cell_type": "code",
   "execution_count": 138,
   "id": "1a4f1972",
   "metadata": {},
   "outputs": [
    {
     "name": "stdout",
     "output_type": "stream",
     "text": [
      "6\n"
     ]
    }
   ],
   "source": [
    "print(len(tup6))"
   ]
  },
  {
   "cell_type": "code",
   "execution_count": 139,
   "id": "7141fa87",
   "metadata": {},
   "outputs": [
    {
     "name": "stdout",
     "output_type": "stream",
     "text": [
      "(50, 100)\n",
      "50\n",
      "150\n",
      "10.77\n",
      "60.89\n"
     ]
    }
   ],
   "source": [
    "print(tup4[2])\n",
    "print(tup4[2][0])\n",
    "print(tup4[-1][-2])\n",
    "print(tup2[0])\n",
    "print(tup2[-1])"
   ]
  },
  {
   "cell_type": "code",
   "execution_count": 140,
   "id": "3e897cd9",
   "metadata": {},
   "outputs": [],
   "source": [
    "mytuple=('one','two','three','four','five','six','seven','eight','nine')"
   ]
  },
  {
   "cell_type": "code",
   "execution_count": 141,
   "id": "44fc55c9",
   "metadata": {},
   "outputs": [
    {
     "name": "stdout",
     "output_type": "stream",
     "text": [
      "one\n",
      "('one', 'two', 'three', 'four', 'five')\n",
      "('two', 'three', 'four', 'five', 'six', 'seven', 'eight', 'nine')\n",
      "('one', 'two', 'three', 'four', 'five')\n",
      "('one', 'two', 'three', 'four', 'five', 'six', 'seven', 'eight', 'nine')\n",
      "('one', 'two', 'three', 'four', 'five', 'six', 'seven', 'eight')\n",
      "('eight', 'nine')\n",
      "('two', 'three', 'four', 'five', 'six')\n"
     ]
    }
   ],
   "source": [
    "print(mytuple[0])\n",
    "print(mytuple[0:5])\n",
    "print(mytuple[1:])\n",
    "print(mytuple[:5])\n",
    "print(mytuple[:])\n",
    "print(mytuple[:-1])\n",
    "print(mytuple[-2:])\n",
    "print(mytuple[1:-3])"
   ]
  },
  {
   "cell_type": "code",
   "execution_count": 142,
   "id": "36f75a5a",
   "metadata": {},
   "outputs": [
    {
     "data": {
      "text/plain": [
       "('one', 'two', 'three', 'four', 'five', 'six', 'seven', 'eight', 'nine')"
      ]
     },
     "execution_count": 142,
     "metadata": {},
     "output_type": "execute_result"
    }
   ],
   "source": [
    "mytuple"
   ]
  },
  {
   "cell_type": "code",
   "execution_count": 143,
   "id": "d8ff5a48",
   "metadata": {},
   "outputs": [],
   "source": [
    "#del mytuple[0] #can't delte item of tuple.it is a immutable"
   ]
  },
  {
   "cell_type": "code",
   "execution_count": 144,
   "id": "b5445445",
   "metadata": {},
   "outputs": [],
   "source": [
    "#mytuple[1]=2 #tuple is a immutable we can't can the value in tuple"
   ]
  },
  {
   "cell_type": "code",
   "execution_count": 145,
   "id": "bde0470d",
   "metadata": {},
   "outputs": [],
   "source": [
    "#del mytuple  #delete entire tuple is possible"
   ]
  },
  {
   "cell_type": "code",
   "execution_count": 146,
   "id": "911c1043",
   "metadata": {},
   "outputs": [
    {
     "data": {
      "text/plain": [
       "('one', 'two', 'three', 'four', 'five', 'six', 'seven', 'eight', 'nine')"
      ]
     },
     "execution_count": 146,
     "metadata": {},
     "output_type": "execute_result"
    }
   ],
   "source": [
    "mytuple"
   ]
  },
  {
   "cell_type": "code",
   "execution_count": 147,
   "id": "cc45f74b",
   "metadata": {},
   "outputs": [
    {
     "name": "stdout",
     "output_type": "stream",
     "text": [
      "one\n",
      "two\n",
      "three\n",
      "four\n",
      "five\n",
      "six\n",
      "seven\n",
      "eight\n",
      "nine\n"
     ]
    }
   ],
   "source": [
    "for i in mytuple:\n",
    "    print(i)"
   ]
  },
  {
   "cell_type": "code",
   "execution_count": 148,
   "id": "2e83e754",
   "metadata": {},
   "outputs": [
    {
     "name": "stdout",
     "output_type": "stream",
     "text": [
      "(0, 'one')\n",
      "(1, 'two')\n",
      "(2, 'three')\n",
      "(3, 'four')\n",
      "(4, 'five')\n",
      "(5, 'six')\n",
      "(6, 'seven')\n",
      "(7, 'eight')\n",
      "(8, 'nine')\n"
     ]
    }
   ],
   "source": [
    "for i in enumerate(mytuple):\n",
    "    print(i)"
   ]
  },
  {
   "cell_type": "code",
   "execution_count": 149,
   "id": "26f9346f",
   "metadata": {},
   "outputs": [],
   "source": [
    "mytuple1=('one', 'one','two','three', 'three', 'four', 'five','six', 'six', 'seven', 'eight', 'nine')"
   ]
  },
  {
   "cell_type": "code",
   "execution_count": 150,
   "id": "4c593c0b",
   "metadata": {},
   "outputs": [
    {
     "name": "stdout",
     "output_type": "stream",
     "text": [
      "2\n",
      "1\n",
      "2\n"
     ]
    }
   ],
   "source": [
    "print(mytuple1.count('one'))\n",
    "print(mytuple1.count('two'))\n",
    "print(mytuple1.count('three'))"
   ]
  },
  {
   "cell_type": "code",
   "execution_count": 151,
   "id": "c1db12a0",
   "metadata": {},
   "outputs": [
    {
     "name": "stdout",
     "output_type": "stream",
     "text": [
      "True\n",
      "False\n"
     ]
    }
   ],
   "source": [
    "print('one' in mytuple1)\n",
    "print('ten' in mytuple1)"
   ]
  },
  {
   "cell_type": "code",
   "execution_count": 152,
   "id": "4a96e546",
   "metadata": {},
   "outputs": [
    {
     "name": "stdout",
     "output_type": "stream",
     "text": [
      "one is in mytuple\n"
     ]
    }
   ],
   "source": [
    "if 'one' in mytuple:\n",
    "    print('one is in mytuple')\n",
    "else:\n",
    "    print('one is not in mytuple')"
   ]
  },
  {
   "cell_type": "code",
   "execution_count": 153,
   "id": "84628f88",
   "metadata": {},
   "outputs": [
    {
     "name": "stdout",
     "output_type": "stream",
     "text": [
      "ten is not in mytuple\n"
     ]
    }
   ],
   "source": [
    "if 'ten' in mytuple:\n",
    "    print('ten is in mytuple')\n",
    "else:\n",
    "    print('ten is not in mytuple')"
   ]
  },
  {
   "cell_type": "code",
   "execution_count": 154,
   "id": "e9e3753a",
   "metadata": {},
   "outputs": [
    {
     "data": {
      "text/plain": [
       "('one', 'two', 'three', 'four', 'five', 'six', 'seven', 'eight', 'nine')"
      ]
     },
     "execution_count": 154,
     "metadata": {},
     "output_type": "execute_result"
    }
   ],
   "source": [
    "mytuple"
   ]
  },
  {
   "cell_type": "code",
   "execution_count": 155,
   "id": "5c279ccc",
   "metadata": {},
   "outputs": [
    {
     "name": "stdout",
     "output_type": "stream",
     "text": [
      "4\n",
      "8\n"
     ]
    }
   ],
   "source": [
    "print(mytuple.index('five'))\n",
    "print(mytuple.index('nine'))"
   ]
  },
  {
   "cell_type": "code",
   "execution_count": 156,
   "id": "141e6e48",
   "metadata": {},
   "outputs": [],
   "source": [
    "mytup=(1,2,34,63,76,54,45,33,74,84,20,34,66,78,24,67)"
   ]
  },
  {
   "cell_type": "code",
   "execution_count": 157,
   "id": "94b6bb1f",
   "metadata": {},
   "outputs": [
    {
     "name": "stdout",
     "output_type": "stream",
     "text": [
      "[1, 2, 20, 24, 33, 34, 34, 45, 54, 63, 66, 67, 74, 76, 78, 84]\n"
     ]
    }
   ],
   "source": [
    "print(sorted(mytup))"
   ]
  },
  {
   "cell_type": "code",
   "execution_count": 158,
   "id": "d9f53792",
   "metadata": {},
   "outputs": [
    {
     "name": "stdout",
     "output_type": "stream",
     "text": [
      "[84, 78, 76, 74, 67, 66, 63, 54, 45, 34, 34, 33, 24, 20, 2, 1]\n"
     ]
    }
   ],
   "source": [
    "print(sorted(mytup,reverse=True))"
   ]
  },
  {
   "cell_type": "markdown",
   "id": "b2fff785",
   "metadata": {},
   "source": [
    "## Sets"
   ]
  },
  {
   "cell_type": "code",
   "execution_count": 159,
   "id": "6c78786d",
   "metadata": {},
   "outputs": [],
   "source": [
    "myset={1,2,4,3,5}"
   ]
  },
  {
   "cell_type": "code",
   "execution_count": 160,
   "id": "0a22873b",
   "metadata": {},
   "outputs": [
    {
     "data": {
      "text/plain": [
       "{1, 2, 3, 4, 5}"
      ]
     },
     "execution_count": 160,
     "metadata": {},
     "output_type": "execute_result"
    }
   ],
   "source": [
    "myset"
   ]
  },
  {
   "cell_type": "code",
   "execution_count": 161,
   "id": "8771dfa1",
   "metadata": {},
   "outputs": [
    {
     "data": {
      "text/plain": [
       "5"
      ]
     },
     "execution_count": 161,
     "metadata": {},
     "output_type": "execute_result"
    }
   ],
   "source": [
    "len(myset)"
   ]
  },
  {
   "cell_type": "code",
   "execution_count": 162,
   "id": "f383f7c1",
   "metadata": {},
   "outputs": [
    {
     "data": {
      "text/plain": [
       "{1, 2, 3, 4, 5, 6, 7, 8, 9}"
      ]
     },
     "execution_count": 162,
     "metadata": {},
     "output_type": "execute_result"
    }
   ],
   "source": [
    "myset1={1,1,1,2,1,2,2,2,3,4,5,6,7,8,9,2,3,2,2,3,5,4,6,7,8}\n",
    "myset1"
   ]
  },
  {
   "cell_type": "code",
   "execution_count": 163,
   "id": "1dd15ee6",
   "metadata": {},
   "outputs": [],
   "source": [
    "myset1={1,1,2,3,4,5,6}\n",
    "myset2={1.2,2.34,3.12,4.22}\n",
    "myset3={'firoz','yaseen','ajas'}\n",
    "myset4={1,2,3,\"firoz\",(4,5,6),1,2,3}"
   ]
  },
  {
   "cell_type": "code",
   "execution_count": 164,
   "id": "4cb7bce4",
   "metadata": {},
   "outputs": [
    {
     "name": "stdout",
     "output_type": "stream",
     "text": [
      "{1, 2, 3, 4, 5, 6}\n",
      "{1.2, 2.34, 3.12, 4.22}\n",
      "{'yaseen', 'ajas', 'firoz'}\n",
      "{1, 2, 3, (4, 5, 6), 'firoz'}\n"
     ]
    }
   ],
   "source": [
    "#set doesnot take list and set in set \n",
    "print(myset1)\n",
    "print(myset2)\n",
    "print(myset3)\n",
    "print(myset4)"
   ]
  },
  {
   "cell_type": "code",
   "execution_count": 165,
   "id": "604ecb81",
   "metadata": {},
   "outputs": [
    {
     "data": {
      "text/plain": [
       "set"
      ]
     },
     "execution_count": 165,
     "metadata": {},
     "output_type": "execute_result"
    }
   ],
   "source": [
    "type(myset1)"
   ]
  },
  {
   "cell_type": "code",
   "execution_count": 166,
   "id": "44578db7",
   "metadata": {},
   "outputs": [
    {
     "data": {
      "text/plain": [
       "{'four', 'one', 'three', 'two'}"
      ]
     },
     "execution_count": 166,
     "metadata": {},
     "output_type": "execute_result"
    }
   ],
   "source": [
    "my_set= set(('one' , 'two' , 'three' , 'four'))\n",
    "my_set"
   ]
  },
  {
   "cell_type": "code",
   "execution_count": 167,
   "id": "3329cb3a",
   "metadata": {},
   "outputs": [
    {
     "name": "stdout",
     "output_type": "stream",
     "text": [
      "set()\n",
      "<class 'set'>\n"
     ]
    }
   ],
   "source": [
    "myset = set()                     # Create an empty set\n",
    "print(myset)\n",
    "print(type(myset))"
   ]
  },
  {
   "cell_type": "code",
   "execution_count": 168,
   "id": "18a36081",
   "metadata": {},
   "outputs": [
    {
     "data": {
      "text/plain": [
       "{'eight', 'five', 'four', 'nine', 'one', 'seven', 'six', 'ten', 'three', 'two'}"
      ]
     },
     "execution_count": 168,
     "metadata": {},
     "output_type": "execute_result"
    }
   ],
   "source": [
    "myset={'one','two','three','four','five','six','seven','eight','nine','ten'}\n",
    "myset"
   ]
  },
  {
   "cell_type": "code",
   "execution_count": 169,
   "id": "bd026692",
   "metadata": {},
   "outputs": [
    {
     "name": "stdout",
     "output_type": "stream",
     "text": [
      "two\n",
      "three\n",
      "eight\n",
      "four\n",
      "five\n",
      "six\n",
      "nine\n",
      "ten\n",
      "one\n",
      "seven\n"
     ]
    }
   ],
   "source": [
    "for i in myset:\n",
    "    print(i)"
   ]
  },
  {
   "cell_type": "code",
   "execution_count": 170,
   "id": "3738dd20",
   "metadata": {},
   "outputs": [
    {
     "name": "stdout",
     "output_type": "stream",
     "text": [
      "(0, 'two')\n",
      "(1, 'three')\n",
      "(2, 'eight')\n",
      "(3, 'four')\n",
      "(4, 'five')\n",
      "(5, 'six')\n",
      "(6, 'nine')\n",
      "(7, 'ten')\n",
      "(8, 'one')\n",
      "(9, 'seven')\n"
     ]
    }
   ],
   "source": [
    "for i in enumerate(myset):\n",
    "    print(i)"
   ]
  },
  {
   "cell_type": "code",
   "execution_count": 171,
   "id": "e69b7820",
   "metadata": {},
   "outputs": [
    {
     "data": {
      "text/plain": [
       "{'eight', 'five', 'four', 'nine', 'one', 'seven', 'six', 'ten', 'three', 'two'}"
      ]
     },
     "execution_count": 171,
     "metadata": {},
     "output_type": "execute_result"
    }
   ],
   "source": [
    "myset"
   ]
  },
  {
   "cell_type": "code",
   "execution_count": 172,
   "id": "6bc5e131",
   "metadata": {},
   "outputs": [
    {
     "name": "stdout",
     "output_type": "stream",
     "text": [
      "True\n",
      "False\n"
     ]
    }
   ],
   "source": [
    "print('four' in myset)\n",
    "print('eleven' in myset)"
   ]
  },
  {
   "cell_type": "code",
   "execution_count": 173,
   "id": "24bcd21b",
   "metadata": {},
   "outputs": [
    {
     "name": "stdout",
     "output_type": "stream",
     "text": [
      "yes three is present in myset\n"
     ]
    }
   ],
   "source": [
    "if \"three\" in myset:\n",
    "    print('yes three is present in myset')\n",
    "else:\n",
    "    print('no, three is not present in myset')"
   ]
  },
  {
   "cell_type": "code",
   "execution_count": 174,
   "id": "3a31487f",
   "metadata": {},
   "outputs": [
    {
     "name": "stdout",
     "output_type": "stream",
     "text": [
      "no, eleven is not present in myset\n"
     ]
    }
   ],
   "source": [
    "if 'eleven' in myset:\n",
    "    print('yes eleven is present in myset')\n",
    "else:\n",
    "    print('no, eleven is not present in myset')"
   ]
  },
  {
   "cell_type": "code",
   "execution_count": 175,
   "id": "cfc08d45",
   "metadata": {},
   "outputs": [
    {
     "data": {
      "text/plain": [
       "{'eight', 'five', 'four', 'nine', 'one', 'seven', 'six', 'ten', 'three', 'two'}"
      ]
     },
     "execution_count": 175,
     "metadata": {},
     "output_type": "execute_result"
    }
   ],
   "source": [
    "myset"
   ]
  },
  {
   "cell_type": "code",
   "execution_count": 176,
   "id": "49bc7ef4",
   "metadata": {},
   "outputs": [],
   "source": [
    "myset.add('eleven')"
   ]
  },
  {
   "cell_type": "code",
   "execution_count": 177,
   "id": "3ac545f2",
   "metadata": {},
   "outputs": [
    {
     "name": "stdout",
     "output_type": "stream",
     "text": [
      "{'eleven', 'two', 'three', 'eight', 'four', 'five', 'six', 'nine', 'ten', 'one', 'seven'}\n"
     ]
    }
   ],
   "source": [
    "print(myset)"
   ]
  },
  {
   "cell_type": "code",
   "execution_count": 178,
   "id": "24244258",
   "metadata": {},
   "outputs": [],
   "source": [
    "myset.update(['Twelve','Thirteen','Fourteen'])"
   ]
  },
  {
   "cell_type": "code",
   "execution_count": 179,
   "id": "68cbc829",
   "metadata": {},
   "outputs": [
    {
     "name": "stdout",
     "output_type": "stream",
     "text": [
      "{'eleven', 'Thirteen', 'two', 'three', 'eight', 'four', 'five', 'Fourteen', 'six', 'nine', 'ten', 'one', 'Twelve', 'seven'}\n"
     ]
    }
   ],
   "source": [
    "print(myset)"
   ]
  },
  {
   "cell_type": "code",
   "execution_count": 180,
   "id": "6d924b80",
   "metadata": {},
   "outputs": [],
   "source": [
    "myset.remove(\"Fourteen\")"
   ]
  },
  {
   "cell_type": "code",
   "execution_count": 181,
   "id": "6519b88f",
   "metadata": {},
   "outputs": [],
   "source": [
    "myset.discard('Thirteen')"
   ]
  },
  {
   "cell_type": "code",
   "execution_count": 182,
   "id": "5f9dbf01",
   "metadata": {},
   "outputs": [
    {
     "name": "stdout",
     "output_type": "stream",
     "text": [
      "{'eleven', 'two', 'three', 'eight', 'four', 'five', 'six', 'nine', 'ten', 'one', 'Twelve', 'seven'}\n"
     ]
    }
   ],
   "source": [
    "print(myset)"
   ]
  },
  {
   "cell_type": "code",
   "execution_count": 183,
   "id": "a22efc34",
   "metadata": {},
   "outputs": [],
   "source": [
    "myset.clear()"
   ]
  },
  {
   "cell_type": "code",
   "execution_count": 184,
   "id": "b29da938",
   "metadata": {},
   "outputs": [
    {
     "data": {
      "text/plain": [
       "set()"
      ]
     },
     "execution_count": 184,
     "metadata": {},
     "output_type": "execute_result"
    }
   ],
   "source": [
    "myset"
   ]
  },
  {
   "cell_type": "code",
   "execution_count": 185,
   "id": "acdda934",
   "metadata": {},
   "outputs": [],
   "source": [
    "del myset"
   ]
  },
  {
   "cell_type": "code",
   "execution_count": 186,
   "id": "781da493",
   "metadata": {},
   "outputs": [
    {
     "data": {
      "text/plain": [
       "{'eight', 'five', 'four', 'one', 'seven', 'six', 'three', 'two'}"
      ]
     },
     "execution_count": 186,
     "metadata": {},
     "output_type": "execute_result"
    }
   ],
   "source": [
    "myset = {'one', 'two', 'three', 'four', 'five', 'six', 'seven', 'eight'}\n",
    "myset"
   ]
  },
  {
   "cell_type": "code",
   "execution_count": 187,
   "id": "42016762",
   "metadata": {},
   "outputs": [
    {
     "name": "stdout",
     "output_type": "stream",
     "text": [
      "{'two', 'three', 'eight', 'four', 'five', 'six', 'one', 'seven'}\n"
     ]
    },
    {
     "data": {
      "text/plain": [
       "(2303077051840, 2303077051840)"
      ]
     },
     "execution_count": 187,
     "metadata": {},
     "output_type": "execute_result"
    }
   ],
   "source": [
    "myst=myset\n",
    "print(myst)\n",
    "id(myst),id(myset)"
   ]
  },
  {
   "cell_type": "code",
   "execution_count": 188,
   "id": "efa67b30",
   "metadata": {},
   "outputs": [
    {
     "name": "stdout",
     "output_type": "stream",
     "text": [
      "{1, 2, 3, 4, 5, 6}\n"
     ]
    },
    {
     "data": {
      "text/plain": [
       "(2303077049376, 2303077053184)"
      ]
     },
     "execution_count": 188,
     "metadata": {},
     "output_type": "execute_result"
    }
   ],
   "source": [
    "myset1={1,2,3,4,5,6}\n",
    "myset2=myset1.copy()\n",
    "print(myset2)\n",
    "id(myset1),id(myset2)"
   ]
  },
  {
   "cell_type": "code",
   "execution_count": 189,
   "id": "8bf31c3b",
   "metadata": {},
   "outputs": [
    {
     "name": "stdout",
     "output_type": "stream",
     "text": [
      "{'two', 'three', 'eight', 'four', 'five', 'six', 'nine', 'one', 'seven'}\n",
      "{'two', 'three', 'eight', 'four', 'five', 'six', 'nine', 'one', 'seven'}\n"
     ]
    }
   ],
   "source": [
    "myset.add('nine')\n",
    "print(myset)\n",
    "print(myst)"
   ]
  },
  {
   "cell_type": "code",
   "execution_count": 190,
   "id": "b30dcfd6",
   "metadata": {},
   "outputs": [],
   "source": [
    "a={1,2,3,4,5}\n",
    "b={4,5,6,7,8}\n",
    "c={8,9,10,11}"
   ]
  },
  {
   "cell_type": "code",
   "execution_count": 191,
   "id": "e713255a",
   "metadata": {},
   "outputs": [
    {
     "data": {
      "text/plain": [
       "{1, 2, 3, 4, 5, 6, 7, 8, 9, 10, 11}"
      ]
     },
     "execution_count": 191,
     "metadata": {},
     "output_type": "execute_result"
    }
   ],
   "source": [
    "a|b|c"
   ]
  },
  {
   "cell_type": "code",
   "execution_count": 192,
   "id": "62a63e09",
   "metadata": {
    "scrolled": true
   },
   "outputs": [
    {
     "data": {
      "text/plain": [
       "{1, 2, 3, 4, 5, 6, 7, 8}"
      ]
     },
     "execution_count": 192,
     "metadata": {},
     "output_type": "execute_result"
    }
   ],
   "source": [
    "a.union(b)"
   ]
  },
  {
   "cell_type": "code",
   "execution_count": 193,
   "id": "35a7bda9",
   "metadata": {},
   "outputs": [
    {
     "data": {
      "text/plain": [
       "{1, 2, 3, 4, 5, 6, 7, 8, 9, 10, 11}"
      ]
     },
     "execution_count": 193,
     "metadata": {},
     "output_type": "execute_result"
    }
   ],
   "source": [
    "a.union(b,c)"
   ]
  },
  {
   "cell_type": "code",
   "execution_count": 194,
   "id": "6e7dbf3f",
   "metadata": {},
   "outputs": [],
   "source": [
    "a.update(b,c)"
   ]
  },
  {
   "cell_type": "code",
   "execution_count": 195,
   "id": "babddbb1",
   "metadata": {},
   "outputs": [
    {
     "data": {
      "text/plain": [
       "{1, 2, 3, 4, 5, 6, 7, 8, 9, 10, 11}"
      ]
     },
     "execution_count": 195,
     "metadata": {},
     "output_type": "execute_result"
    }
   ],
   "source": [
    "a"
   ]
  },
  {
   "cell_type": "code",
   "execution_count": 196,
   "id": "acc6ef48",
   "metadata": {},
   "outputs": [],
   "source": [
    "a= {1,2,3,4,5}\n",
    "b= {4,5,6,7,8}"
   ]
  },
  {
   "cell_type": "code",
   "execution_count": 197,
   "id": "62f3e247",
   "metadata": {},
   "outputs": [
    {
     "data": {
      "text/plain": [
       "{4, 5}"
      ]
     },
     "execution_count": 197,
     "metadata": {},
     "output_type": "execute_result"
    }
   ],
   "source": [
    "a&b"
   ]
  },
  {
   "cell_type": "code",
   "execution_count": 198,
   "id": "6803c5ac",
   "metadata": {},
   "outputs": [
    {
     "data": {
      "text/plain": [
       "{4, 5}"
      ]
     },
     "execution_count": 198,
     "metadata": {},
     "output_type": "execute_result"
    }
   ],
   "source": [
    "a.intersection(b)"
   ]
  },
  {
   "cell_type": "code",
   "execution_count": 199,
   "id": "746fe9dc",
   "metadata": {},
   "outputs": [],
   "source": [
    "a.intersection_update(b)"
   ]
  },
  {
   "cell_type": "code",
   "execution_count": 200,
   "id": "3b99a263",
   "metadata": {},
   "outputs": [
    {
     "data": {
      "text/plain": [
       "{4, 5}"
      ]
     },
     "execution_count": 200,
     "metadata": {},
     "output_type": "execute_result"
    }
   ],
   "source": [
    "a"
   ]
  },
  {
   "cell_type": "code",
   "execution_count": 201,
   "id": "7fe51cf7",
   "metadata": {},
   "outputs": [
    {
     "name": "stdout",
     "output_type": "stream",
     "text": [
      "{1, 2, 3}\n",
      "{1, 2, 3}\n"
     ]
    }
   ],
   "source": [
    "a= {1,2,3,4,5}\n",
    "b= {4,5,6,7,8}\n",
    "print(a-b)               \n",
    "print(a.difference(b))  "
   ]
  },
  {
   "cell_type": "code",
   "execution_count": 202,
   "id": "277f93eb",
   "metadata": {},
   "outputs": [
    {
     "name": "stdout",
     "output_type": "stream",
     "text": [
      "{8, 6, 7}\n",
      "{4, 5, 6, 7}\n"
     ]
    }
   ],
   "source": [
    "print(b-a)               \n",
    "print(b.difference(c))  "
   ]
  },
  {
   "cell_type": "code",
   "execution_count": 203,
   "id": "8299f61c",
   "metadata": {},
   "outputs": [
    {
     "name": "stdout",
     "output_type": "stream",
     "text": [
      "{6, 7, 8}\n"
     ]
    }
   ],
   "source": [
    "b.difference_update(a)\n",
    "print(b)"
   ]
  },
  {
   "cell_type": "code",
   "execution_count": 204,
   "id": "eb7e6c72",
   "metadata": {},
   "outputs": [
    {
     "name": "stdout",
     "output_type": "stream",
     "text": [
      "{1, 2, 3, 6, 7, 8}\n",
      "{1, 2, 3, 6, 7, 8}\n"
     ]
    }
   ],
   "source": [
    "A = {1,2,3,4,5}\n",
    "B = {4,5,6,7,8}\n",
    "print(A ^ B)                            \n",
    "print(A.symmetric_difference(B))       "
   ]
  },
  {
   "cell_type": "code",
   "execution_count": 205,
   "id": "dc1b341d",
   "metadata": {},
   "outputs": [
    {
     "name": "stdout",
     "output_type": "stream",
     "text": [
      "{1, 2, 3, 6, 7, 8}\n"
     ]
    }
   ],
   "source": [
    "A.symmetric_difference_update(B)\n",
    "print(A)"
   ]
  },
  {
   "cell_type": "code",
   "execution_count": 206,
   "id": "c755eaa0",
   "metadata": {},
   "outputs": [
    {
     "name": "stdout",
     "output_type": "stream",
     "text": [
      "True\n",
      "True\n",
      "True\n",
      "False\n"
     ]
    }
   ],
   "source": [
    "A = {1,2,3,4,5,6,7,8,9}\n",
    "B = {3,4,5,6,7,8}\n",
    "C = {10,20,30,40}\n",
    "print(B.issubset(A))\n",
    "print(A.issuperset(B))\n",
    "print(C.isdisjoint(A))\n",
    "print(B.isdisjoint(A))"
   ]
  },
  {
   "cell_type": "code",
   "execution_count": 207,
   "id": "1c546522",
   "metadata": {},
   "outputs": [
    {
     "data": {
      "text/plain": [
       "{1, 2, 3, 4, 5, 6, 7, 8, 9}"
      ]
     },
     "execution_count": 207,
     "metadata": {},
     "output_type": "execute_result"
    }
   ],
   "source": [
    "A"
   ]
  },
  {
   "cell_type": "code",
   "execution_count": 208,
   "id": "c134c86d",
   "metadata": {},
   "outputs": [
    {
     "name": "stdout",
     "output_type": "stream",
     "text": [
      "45\n"
     ]
    }
   ],
   "source": [
    "print(sum(A))"
   ]
  },
  {
   "cell_type": "code",
   "execution_count": 209,
   "id": "7aeaf2f8",
   "metadata": {},
   "outputs": [
    {
     "data": {
      "text/plain": [
       "9"
      ]
     },
     "execution_count": 209,
     "metadata": {},
     "output_type": "execute_result"
    }
   ],
   "source": [
    "max(A)"
   ]
  },
  {
   "cell_type": "code",
   "execution_count": 210,
   "id": "7115c173",
   "metadata": {},
   "outputs": [
    {
     "data": {
      "text/plain": [
       "1"
      ]
     },
     "execution_count": 210,
     "metadata": {},
     "output_type": "execute_result"
    }
   ],
   "source": [
    "min(A)"
   ]
  },
  {
   "cell_type": "code",
   "execution_count": 211,
   "id": "82bef2fa",
   "metadata": {},
   "outputs": [
    {
     "data": {
      "text/plain": [
       "9"
      ]
     },
     "execution_count": 211,
     "metadata": {},
     "output_type": "execute_result"
    }
   ],
   "source": [
    "len(A)"
   ]
  },
  {
   "cell_type": "code",
   "execution_count": 212,
   "id": "a0755dc8",
   "metadata": {},
   "outputs": [
    {
     "data": {
      "text/plain": [
       "[(0, 1), (1, 2), (2, 3), (3, 4), (4, 5), (5, 6), (6, 7), (7, 8), (8, 9)]"
      ]
     },
     "execution_count": 212,
     "metadata": {},
     "output_type": "execute_result"
    }
   ],
   "source": [
    "list(enumerate(A))"
   ]
  },
  {
   "cell_type": "code",
   "execution_count": 213,
   "id": "14c4dc63",
   "metadata": {},
   "outputs": [
    {
     "data": {
      "text/plain": [
       "[9, 8, 7, 6, 5, 4, 3, 2, 1]"
      ]
     },
     "execution_count": 213,
     "metadata": {},
     "output_type": "execute_result"
    }
   ],
   "source": [
    "D=sorted(A,reverse=True)\n",
    "D"
   ]
  },
  {
   "cell_type": "code",
   "execution_count": 214,
   "id": "a409f05d",
   "metadata": {},
   "outputs": [
    {
     "data": {
      "text/plain": [
       "[1, 2, 3, 4, 5, 6, 7, 8, 9]"
      ]
     },
     "execution_count": 214,
     "metadata": {},
     "output_type": "execute_result"
    }
   ],
   "source": [
    "sorted(D)"
   ]
  },
  {
   "cell_type": "markdown",
   "id": "5c59c799",
   "metadata": {},
   "source": [
    "## dictionary"
   ]
  },
  {
   "cell_type": "code",
   "execution_count": 215,
   "id": "54f456e0",
   "metadata": {},
   "outputs": [
    {
     "data": {
      "text/plain": [
       "{}"
      ]
     },
     "execution_count": 215,
     "metadata": {},
     "output_type": "execute_result"
    }
   ],
   "source": [
    "dict1=dict()\n",
    "dict1"
   ]
  },
  {
   "cell_type": "code",
   "execution_count": 216,
   "id": "a757819f",
   "metadata": {},
   "outputs": [
    {
     "data": {
      "text/plain": [
       "dict"
      ]
     },
     "execution_count": 216,
     "metadata": {},
     "output_type": "execute_result"
    }
   ],
   "source": [
    "type(dict1)"
   ]
  },
  {
   "cell_type": "code",
   "execution_count": 217,
   "id": "22912bac",
   "metadata": {},
   "outputs": [
    {
     "data": {
      "text/plain": [
       "{}"
      ]
     },
     "execution_count": 217,
     "metadata": {},
     "output_type": "execute_result"
    }
   ],
   "source": [
    "dict2={}\n",
    "dict2"
   ]
  },
  {
   "cell_type": "code",
   "execution_count": 218,
   "id": "4204973c",
   "metadata": {},
   "outputs": [
    {
     "data": {
      "text/plain": [
       "{1: 'one', 2: 'two', 3: 'three', 4: 'four', 5: 'five', 6: 'six'}"
      ]
     },
     "execution_count": 218,
     "metadata": {},
     "output_type": "execute_result"
    }
   ],
   "source": [
    "dict3={1:'one',2:'two',3:'three',4:'four',5:'five',6:'six'}\n",
    "dict3"
   ]
  },
  {
   "cell_type": "code",
   "execution_count": 219,
   "id": "7168c753",
   "metadata": {},
   "outputs": [
    {
     "data": {
      "text/plain": [
       "{1: 'one', 2: 'two', 3: 'three', 4: 'four'}"
      ]
     },
     "execution_count": 219,
     "metadata": {},
     "output_type": "execute_result"
    }
   ],
   "source": [
    "dict4=dict({1:'one',2:'two',3:'three',4:'four'})\n",
    "dict4"
   ]
  },
  {
   "cell_type": "code",
   "execution_count": 220,
   "id": "406f4fc9",
   "metadata": {},
   "outputs": [
    {
     "data": {
      "text/plain": [
       "{'A': 'one', 'B': 'two', 'C': 'THREE'}"
      ]
     },
     "execution_count": 220,
     "metadata": {},
     "output_type": "execute_result"
    }
   ],
   "source": [
    "dict5={'A':'one','B':'two','C':'THREE'}\n",
    "dict5"
   ]
  },
  {
   "cell_type": "code",
   "execution_count": 221,
   "id": "78180e4c",
   "metadata": {},
   "outputs": [
    {
     "data": {
      "text/plain": [
       "{'a': 'firoz', 2: 'yaseen', 3: 'ajas'}"
      ]
     },
     "execution_count": 221,
     "metadata": {},
     "output_type": "execute_result"
    }
   ],
   "source": [
    "dict6={\"a\":'firoz',2:'yaseen',3:\"ajas\"}\n",
    "dict6"
   ]
  },
  {
   "cell_type": "code",
   "execution_count": 222,
   "id": "216b227a",
   "metadata": {},
   "outputs": [
    {
     "name": "stdout",
     "output_type": "stream",
     "text": [
      "dict_keys(['a', 2, 3])\n",
      "dict_values(['firoz', 'yaseen', 'ajas'])\n"
     ]
    }
   ],
   "source": [
    "print(dict6.keys())\n",
    "print(dict6.values())"
   ]
  },
  {
   "cell_type": "code",
   "execution_count": 223,
   "id": "766899de",
   "metadata": {},
   "outputs": [
    {
     "name": "stdout",
     "output_type": "stream",
     "text": [
      "dict_items([('a', 'firoz'), (2, 'yaseen'), (3, 'ajas')])\n"
     ]
    }
   ],
   "source": [
    "print(dict6.items())"
   ]
  },
  {
   "cell_type": "code",
   "execution_count": 224,
   "id": "67b2311e",
   "metadata": {},
   "outputs": [
    {
     "data": {
      "text/plain": [
       "{'A': 'one', 'B': 'two', 'C': 'three', 4: ['four', 'five', 'six']}"
      ]
     },
     "execution_count": 224,
     "metadata": {},
     "output_type": "execute_result"
    }
   ],
   "source": [
    "dict7={'A':'one',\"B\":'two','C':'three',4:['four','five','six']}\n",
    "dict7"
   ]
  },
  {
   "cell_type": "code",
   "execution_count": 225,
   "id": "e3fe492f",
   "metadata": {},
   "outputs": [
    {
     "data": {
      "text/plain": [
       "{'A': 'one',\n",
       " 'B': 'two',\n",
       " 'C': 'three',\n",
       " 4: ['four', 'five', 'six'],\n",
       " 'D': ('seven', 'eight')}"
      ]
     },
     "execution_count": 225,
     "metadata": {},
     "output_type": "execute_result"
    }
   ],
   "source": [
    "dict8={'A':'one',\"B\":'two','C':'three',4:['four','five','six'],\"D\":('seven','eight')}\n",
    "dict8"
   ]
  },
  {
   "cell_type": "code",
   "execution_count": 226,
   "id": "ed64743d",
   "metadata": {},
   "outputs": [
    {
     "data": {
      "text/plain": [
       "{'A': 'one',\n",
       " 'B': 'two',\n",
       " 'c': {'C': 'three', 'd': 'four'},\n",
       " 4: ['four', 'five', 'six'],\n",
       " 'D': ('seven', 'eight')}"
      ]
     },
     "execution_count": 226,
     "metadata": {},
     "output_type": "execute_result"
    }
   ],
   "source": [
    "dict9={'A':'one',\"B\":'two','c':{'C':'three','d':'four'},4:['four','five','six'],\"D\":('seven','eight')}\n",
    "dict9"
   ]
  },
  {
   "cell_type": "code",
   "execution_count": 227,
   "id": "6cc58bd2",
   "metadata": {},
   "outputs": [],
   "source": [
    "keys = {'a' , 'b' , 'c' , 'd'}"
   ]
  },
  {
   "cell_type": "code",
   "execution_count": 228,
   "id": "b9d235a4",
   "metadata": {},
   "outputs": [
    {
     "data": {
      "text/plain": [
       "{'b': None, 'd': None, 'c': None, 'a': None}"
      ]
     },
     "execution_count": 228,
     "metadata": {},
     "output_type": "execute_result"
    }
   ],
   "source": [
    "dict10=dict.fromkeys(keys)\n",
    "dict10"
   ]
  },
  {
   "cell_type": "code",
   "execution_count": 229,
   "id": "98ede68a",
   "metadata": {},
   "outputs": [],
   "source": [
    "keys = ('a' , 'b' , 'c' , 'd')\n",
    "value = 10"
   ]
  },
  {
   "cell_type": "code",
   "execution_count": 230,
   "id": "ce18f34a",
   "metadata": {},
   "outputs": [
    {
     "data": {
      "text/plain": [
       "{'a': 10, 'b': 10, 'c': 10, 'd': 10}"
      ]
     },
     "execution_count": 230,
     "metadata": {},
     "output_type": "execute_result"
    }
   ],
   "source": [
    "dict11=dict.fromkeys(keys,value)\n",
    "dict11"
   ]
  },
  {
   "cell_type": "code",
   "execution_count": 231,
   "id": "dfc91324",
   "metadata": {},
   "outputs": [
    {
     "name": "stdout",
     "output_type": "stream",
     "text": [
      "{'b': [12, 14, 16], 'd': [12, 14, 16], 'c': [12, 14, 16], 'a': [12, 14, 16]}\n"
     ]
    }
   ],
   "source": [
    "keys={'a','b','c','d'}\n",
    "value=[12,14,16]\n",
    "print(dict.fromkeys(keys,value))"
   ]
  },
  {
   "cell_type": "code",
   "execution_count": 232,
   "id": "d4ca782f",
   "metadata": {},
   "outputs": [],
   "source": [
    "value.append(40)"
   ]
  },
  {
   "cell_type": "code",
   "execution_count": 233,
   "id": "c2e21aed",
   "metadata": {},
   "outputs": [
    {
     "data": {
      "text/plain": [
       "{'b': [12, 14, 16, 40],\n",
       " 'd': [12, 14, 16, 40],\n",
       " 'c': [12, 14, 16, 40],\n",
       " 'a': [12, 14, 16, 40]}"
      ]
     },
     "execution_count": 233,
     "metadata": {},
     "output_type": "execute_result"
    }
   ],
   "source": [
    "a=dict.fromkeys(keys,value)\n",
    "a"
   ]
  },
  {
   "cell_type": "code",
   "execution_count": 234,
   "id": "ea2722cd",
   "metadata": {},
   "outputs": [
    {
     "data": {
      "text/plain": [
       "{1: 'one', 2: 'two', 3: 'three', 4: 'four', 5: 'five'}"
      ]
     },
     "execution_count": 234,
     "metadata": {},
     "output_type": "execute_result"
    }
   ],
   "source": [
    "dict12={1:'one',2:'two',3:'three',4:'four',5:'five'}\n",
    "dict12"
   ]
  },
  {
   "cell_type": "code",
   "execution_count": 235,
   "id": "8e474a7c",
   "metadata": {},
   "outputs": [
    {
     "name": "stdout",
     "output_type": "stream",
     "text": [
      "one\n",
      "two\n",
      "three\n",
      "four\n"
     ]
    }
   ],
   "source": [
    "print(dict12[1])\n",
    "print(dict12[2])\n",
    "print(dict12[3])\n",
    "print(dict12[4])"
   ]
  },
  {
   "cell_type": "code",
   "execution_count": 236,
   "id": "47e9cc8e",
   "metadata": {},
   "outputs": [
    {
     "data": {
      "text/plain": [
       "'one'"
      ]
     },
     "execution_count": 236,
     "metadata": {},
     "output_type": "execute_result"
    }
   ],
   "source": [
    "dict12.get(1)"
   ]
  },
  {
   "cell_type": "code",
   "execution_count": 237,
   "id": "5914dfb6",
   "metadata": {},
   "outputs": [
    {
     "data": {
      "text/plain": [
       "{'Name': 'Firoz', 'ID': 433, 'DOB': 2001, 'job': 'Analyst'}"
      ]
     },
     "execution_count": 237,
     "metadata": {},
     "output_type": "execute_result"
    }
   ],
   "source": [
    "dict13 = {'Name':'Firoz' , 'ID': 433 , 'DOB': 2001 , 'job' :'Analyst'}\n",
    "dict13"
   ]
  },
  {
   "cell_type": "code",
   "execution_count": 238,
   "id": "3b640c6f",
   "metadata": {},
   "outputs": [
    {
     "name": "stdout",
     "output_type": "stream",
     "text": [
      "Firoz\n",
      "433\n"
     ]
    }
   ],
   "source": [
    "print(dict13['Name'])\n",
    "print(dict13.get('ID'))"
   ]
  },
  {
   "cell_type": "code",
   "execution_count": 239,
   "id": "1bb82b23",
   "metadata": {},
   "outputs": [],
   "source": [
    "dict14={'Adress':'Rajampet'}"
   ]
  },
  {
   "cell_type": "code",
   "execution_count": 240,
   "id": "b83498e8",
   "metadata": {},
   "outputs": [
    {
     "data": {
      "text/plain": [
       "{'Name': 'Firoz',\n",
       " 'ID': 433,\n",
       " 'DOB': 2001,\n",
       " 'job': 'Analyst',\n",
       " 'Adress': 'Rajampet'}"
      ]
     },
     "execution_count": 240,
     "metadata": {},
     "output_type": "execute_result"
    }
   ],
   "source": [
    "dict13.update(dict14)\n",
    "dict13"
   ]
  },
  {
   "cell_type": "code",
   "execution_count": 241,
   "id": "27f51fe7",
   "metadata": {},
   "outputs": [
    {
     "data": {
      "text/plain": [
       "'Analyst'"
      ]
     },
     "execution_count": 241,
     "metadata": {},
     "output_type": "execute_result"
    }
   ],
   "source": [
    "dict13.pop('job')"
   ]
  },
  {
   "cell_type": "code",
   "execution_count": 242,
   "id": "9eb5d6fe",
   "metadata": {},
   "outputs": [
    {
     "data": {
      "text/plain": [
       "{'Name': 'Firoz', 'ID': 433, 'DOB': 2001, 'Adress': 'Rajampet'}"
      ]
     },
     "execution_count": 242,
     "metadata": {},
     "output_type": "execute_result"
    }
   ],
   "source": [
    "dict13"
   ]
  },
  {
   "cell_type": "code",
   "execution_count": 243,
   "id": "2fc1ba5e",
   "metadata": {},
   "outputs": [
    {
     "data": {
      "text/plain": [
       "('Adress', 'Rajampet')"
      ]
     },
     "execution_count": 243,
     "metadata": {},
     "output_type": "execute_result"
    }
   ],
   "source": [
    "dict13.popitem()"
   ]
  },
  {
   "cell_type": "code",
   "execution_count": 244,
   "id": "ca995c9d",
   "metadata": {},
   "outputs": [
    {
     "data": {
      "text/plain": [
       "{'Name': 'Firoz', 'ID': 433}"
      ]
     },
     "execution_count": 244,
     "metadata": {},
     "output_type": "execute_result"
    }
   ],
   "source": [
    "del dict13['DOB']\n",
    "dict13"
   ]
  },
  {
   "cell_type": "code",
   "execution_count": 245,
   "id": "37b4245f",
   "metadata": {},
   "outputs": [
    {
     "data": {
      "text/plain": [
       "{}"
      ]
     },
     "execution_count": 245,
     "metadata": {},
     "output_type": "execute_result"
    }
   ],
   "source": [
    "dict13.clear()\n",
    "dict13"
   ]
  },
  {
   "cell_type": "code",
   "execution_count": 246,
   "id": "4bf42246",
   "metadata": {},
   "outputs": [],
   "source": [
    "del dict13"
   ]
  },
  {
   "cell_type": "code",
   "execution_count": 247,
   "id": "014256ee",
   "metadata": {},
   "outputs": [
    {
     "data": {
      "text/plain": [
       "{'name': 'firoz', 'id': 433, 'dob': 2001, 'adress': 'rajampet'}"
      ]
     },
     "execution_count": 247,
     "metadata": {},
     "output_type": "execute_result"
    }
   ],
   "source": [
    "dict13={'name':'firoz','id':433,'dob':2001,'adress':'rajampet'}\n",
    "dict13"
   ]
  },
  {
   "cell_type": "code",
   "execution_count": 248,
   "id": "4ae334f8",
   "metadata": {},
   "outputs": [
    {
     "name": "stdout",
     "output_type": "stream",
     "text": [
      "{'name': 'firoz', 'id': 433, 'dob': 2001, 'adress': 'rajampet'}\n"
     ]
    }
   ],
   "source": [
    "dict15=dict13\n",
    "print(dict15)"
   ]
  },
  {
   "cell_type": "code",
   "execution_count": 249,
   "id": "7f0dbf27",
   "metadata": {},
   "outputs": [
    {
     "data": {
      "text/plain": [
       "(2303066914432, 2303066914432)"
      ]
     },
     "execution_count": 249,
     "metadata": {},
     "output_type": "execute_result"
    }
   ],
   "source": [
    "id(dict13) , id(dict15)"
   ]
  },
  {
   "cell_type": "code",
   "execution_count": 250,
   "id": "adb14e7f",
   "metadata": {},
   "outputs": [
    {
     "name": "stdout",
     "output_type": "stream",
     "text": [
      "{'name': 'firoz', 'id': 433, 'dob': 2001, 'adress': 'rajampet', 'job': 'businessman'}\n"
     ]
    }
   ],
   "source": [
    "dict15['job']='businessman'\n",
    "print(dict15)"
   ]
  },
  {
   "cell_type": "code",
   "execution_count": 251,
   "id": "2ca8a528",
   "metadata": {},
   "outputs": [
    {
     "data": {
      "text/plain": [
       "{'name': 'firoz',\n",
       " 'id': 433,\n",
       " 'dob': 2001,\n",
       " 'adress': 'rajampet',\n",
       " 'job': 'businessman'}"
      ]
     },
     "execution_count": 251,
     "metadata": {},
     "output_type": "execute_result"
    }
   ],
   "source": [
    "dict13"
   ]
  },
  {
   "cell_type": "code",
   "execution_count": 252,
   "id": "b3b93a6d",
   "metadata": {},
   "outputs": [
    {
     "data": {
      "text/plain": [
       "{'name': 'firoz', 'id': 433, 'dob': 2001, 'adress': 'rajampet'}"
      ]
     },
     "execution_count": 252,
     "metadata": {},
     "output_type": "execute_result"
    }
   ],
   "source": [
    "dict16={'name': 'firoz', 'id': 433, 'dob': 2001, 'adress': 'rajampet'}\n",
    "dict16"
   ]
  },
  {
   "cell_type": "code",
   "execution_count": 253,
   "id": "9bec392e",
   "metadata": {},
   "outputs": [
    {
     "data": {
      "text/plain": [
       "(2303079006912, 2303078804992)"
      ]
     },
     "execution_count": 253,
     "metadata": {},
     "output_type": "execute_result"
    }
   ],
   "source": [
    "dict17=dict16.copy()\n",
    "id(dict16),id(dict17)"
   ]
  },
  {
   "cell_type": "code",
   "execution_count": 254,
   "id": "3e4f0249",
   "metadata": {},
   "outputs": [
    {
     "name": "stdout",
     "output_type": "stream",
     "text": [
      "{'name': 'firoz', 'id': 433, 'dob': 2001, 'adress': 'rajampet'}\n",
      "{'name': 'firoz', 'id': 433, 'dob': 2001, 'adress': 'rajampet'}\n"
     ]
    }
   ],
   "source": [
    "print(dict16)\n",
    "print(dict17)"
   ]
  },
  {
   "cell_type": "code",
   "execution_count": 255,
   "id": "6e660fd7",
   "metadata": {},
   "outputs": [
    {
     "data": {
      "text/plain": [
       "{'name': 'firoz', 'id': 433, 'dob': 2001, 'adress': 'rajampet', 'pin': 516115}"
      ]
     },
     "execution_count": 255,
     "metadata": {},
     "output_type": "execute_result"
    }
   ],
   "source": [
    "dict16['pin']=516115\n",
    "dict16"
   ]
  },
  {
   "cell_type": "code",
   "execution_count": 256,
   "id": "5c9fe6f5",
   "metadata": {},
   "outputs": [
    {
     "name": "stdout",
     "output_type": "stream",
     "text": [
      "{'name': 'firoz', 'id': 433, 'dob': 2001, 'adress': 'rajampet'}\n"
     ]
    }
   ],
   "source": [
    "print(dict17)"
   ]
  },
  {
   "cell_type": "code",
   "execution_count": 257,
   "id": "671747d5",
   "metadata": {},
   "outputs": [
    {
     "name": "stdout",
     "output_type": "stream",
     "text": [
      "name : firoz\n",
      "id : 433\n",
      "dob : 2001\n",
      "adress : rajampet\n"
     ]
    }
   ],
   "source": [
    "for j in dict17:\n",
    "    print(j,\":\",dict17[j])"
   ]
  },
  {
   "cell_type": "code",
   "execution_count": 258,
   "id": "789159ce",
   "metadata": {},
   "outputs": [
    {
     "name": "stdout",
     "output_type": "stream",
     "text": [
      "firoz\n",
      "433\n",
      "2001\n",
      "rajampet\n"
     ]
    }
   ],
   "source": [
    "for j in dict17:\n",
    "    print(dict17[j])"
   ]
  },
  {
   "cell_type": "code",
   "execution_count": 259,
   "id": "938e0999",
   "metadata": {},
   "outputs": [
    {
     "name": "stdout",
     "output_type": "stream",
     "text": [
      "True\n",
      "False\n",
      "False\n",
      "True\n"
     ]
    }
   ],
   "source": [
    "print('name' in dict17)\n",
    "print('firoz' in dict17)\n",
    "print(433 in dict17)\n",
    "print('adress' in dict17)"
   ]
  },
  {
   "cell_type": "code",
   "execution_count": 260,
   "id": "0e61c6b0",
   "metadata": {},
   "outputs": [
    {
     "data": {
      "text/plain": [
       "True"
      ]
     },
     "execution_count": 260,
     "metadata": {},
     "output_type": "execute_result"
    }
   ],
   "source": [
    "all(dict17)"
   ]
  },
  {
   "cell_type": "code",
   "execution_count": 261,
   "id": "6c016e02",
   "metadata": {},
   "outputs": [
    {
     "data": {
      "text/plain": [
       "True"
      ]
     },
     "execution_count": 261,
     "metadata": {},
     "output_type": "execute_result"
    }
   ],
   "source": [
    "any(dict17)"
   ]
  },
  {
   "cell_type": "code",
   "execution_count": 262,
   "id": "e8967285",
   "metadata": {},
   "outputs": [
    {
     "name": "stdout",
     "output_type": "stream",
     "text": [
      "{'name': 'firoz', 'id': 433, 'dob': 2001, 'adress': 'rajampet', 0: 'shaik'}\n"
     ]
    }
   ],
   "source": [
    "dict17[0]='shaik'\n",
    "print(dict17)"
   ]
  },
  {
   "cell_type": "code",
   "execution_count": 263,
   "id": "ac3fa978",
   "metadata": {},
   "outputs": [
    {
     "data": {
      "text/plain": [
       "False"
      ]
     },
     "execution_count": 263,
     "metadata": {},
     "output_type": "execute_result"
    }
   ],
   "source": [
    "all(dict17)"
   ]
  },
  {
   "cell_type": "code",
   "execution_count": 264,
   "id": "33b59c88",
   "metadata": {},
   "outputs": [
    {
     "data": {
      "text/plain": [
       "True"
      ]
     },
     "execution_count": 264,
     "metadata": {},
     "output_type": "execute_result"
    }
   ],
   "source": [
    "any(dict17)"
   ]
  },
  {
   "cell_type": "code",
   "execution_count": 265,
   "id": "d6ab7cf0",
   "metadata": {},
   "outputs": [
    {
     "name": "stdout",
     "output_type": "stream",
     "text": [
      "{0: 0, 1: 2, 2: 4, 3: 6, 4: 8, 5: 10, 6: 12, 7: 14, 8: 16, 9: 18}\n"
     ]
    }
   ],
   "source": [
    "double={i:i*2 for i in range(10)}\n",
    "print(double)"
   ]
  },
  {
   "cell_type": "code",
   "execution_count": 266,
   "id": "53a1c023",
   "metadata": {},
   "outputs": [
    {
     "name": "stdout",
     "output_type": "stream",
     "text": [
      "{0: 0, 1: 1, 2: 4, 3: 9, 4: 16, 5: 25, 6: 36, 7: 49, 8: 64, 9: 81}\n"
     ]
    }
   ],
   "source": [
    "square={i:i**2 for i in range(10)}\n",
    "print(square)"
   ]
  },
  {
   "cell_type": "code",
   "execution_count": 267,
   "id": "4cc32fe1",
   "metadata": {},
   "outputs": [
    {
     "data": {
      "text/plain": [
       "{'one': 1, 'two': 2, 'three': 3, 'four': 4, 'five': 5}"
      ]
     },
     "execution_count": 267,
     "metadata": {},
     "output_type": "execute_result"
    }
   ],
   "source": [
    "keys = ['one' , 'two' , 'three' , 'four' , 'five']\n",
    "value = [1,2,3,4,5]\n",
    "a=zip(keys,value)\n",
    "dict18 = {k:v for (k,v) in a}                    \n",
    "dict18"
   ]
  },
  {
   "cell_type": "code",
   "execution_count": 268,
   "id": "bce34c84",
   "metadata": {},
   "outputs": [
    {
     "data": {
      "text/plain": [
       "{'a': 1.0, 'b': 2.0, 'c': 3.0, 'd': 4.0, 'e': 5.0}"
      ]
     },
     "execution_count": 268,
     "metadata": {},
     "output_type": "execute_result"
    }
   ],
   "source": [
    "dict19={'a':10,'b':20,'c':30,'d':40,'e':50}\n",
    "dict19={i:j/10 for (i,j) in dict19.items()}\n",
    "dict19"
   ]
  },
  {
   "cell_type": "code",
   "execution_count": 269,
   "id": "87714b9a",
   "metadata": {},
   "outputs": [
    {
     "data": {
      "text/plain": [
       "dict_items([('a', 1.0), ('b', 2.0), ('c', 3.0), ('d', 4.0), ('e', 5.0)])"
      ]
     },
     "execution_count": 269,
     "metadata": {},
     "output_type": "execute_result"
    }
   ],
   "source": [
    "dict19.items()"
   ]
  },
  {
   "cell_type": "code",
   "execution_count": 270,
   "id": "2abd5ffb",
   "metadata": {},
   "outputs": [
    {
     "data": {
      "text/plain": [
       "{0: 'A',\n",
       " 1: 'r',\n",
       " 2: 't',\n",
       " 3: 'i',\n",
       " 4: 'f',\n",
       " 5: 'i',\n",
       " 6: 'c',\n",
       " 7: 'i',\n",
       " 8: 'a',\n",
       " 9: 'l',\n",
       " 10: ' ',\n",
       " 11: 'I',\n",
       " 12: 'n',\n",
       " 13: 't',\n",
       " 14: 'e',\n",
       " 15: 'l',\n",
       " 16: 'l',\n",
       " 17: 'i',\n",
       " 18: 'g',\n",
       " 19: 'e',\n",
       " 20: 'n',\n",
       " 21: 'c',\n",
       " 22: 'e'}"
      ]
     },
     "execution_count": 270,
     "metadata": {},
     "output_type": "execute_result"
    }
   ],
   "source": [
    "str1=\"Artificial Intelligence\"\n",
    "dict20={i:j for i,j in enumerate(str1)}\n",
    "dict20"
   ]
  },
  {
   "cell_type": "code",
   "execution_count": 271,
   "id": "c97c02bf",
   "metadata": {},
   "outputs": [
    {
     "data": {
      "text/plain": [
       "{'a': 'A',\n",
       " 'b': 'B',\n",
       " 'c': 'C',\n",
       " 'd': 'D',\n",
       " 'e': 'E',\n",
       " 'f': 'F',\n",
       " 'g': 'G',\n",
       " 'h': 'H',\n",
       " 'i': 'I',\n",
       " 'j': 'J',\n",
       " 'k': 'K',\n",
       " 'l': 'L',\n",
       " 'm': 'M',\n",
       " 'n': 'N',\n",
       " 'o': 'O',\n",
       " 'p': 'P',\n",
       " 'q': 'Q',\n",
       " 'r': 'R',\n",
       " 's': 'S',\n",
       " 't': 'T',\n",
       " 'u': 'U',\n",
       " 'v': 'V',\n",
       " 'w': 'W',\n",
       " 'x': 'X',\n",
       " 'y': 'Y',\n",
       " 'z': 'Z'}"
      ]
     },
     "execution_count": 271,
     "metadata": {},
     "output_type": "execute_result"
    }
   ],
   "source": [
    "str2=\"abcdefghijklmnopqrstuvwxyz\"\n",
    "dict21={i:i.upper() for i in str2}\n",
    "dict21"
   ]
  },
  {
   "cell_type": "code",
   "execution_count": 272,
   "id": "de342837",
   "metadata": {},
   "outputs": [],
   "source": [
    "str2=\"one two three four five six seven eight nine ten one nine eight five four two\""
   ]
  },
  {
   "cell_type": "code",
   "execution_count": 273,
   "id": "f6b40f13",
   "metadata": {},
   "outputs": [
    {
     "data": {
      "text/plain": [
       "['one',\n",
       " 'two',\n",
       " 'three',\n",
       " 'four',\n",
       " 'five',\n",
       " 'six',\n",
       " 'seven',\n",
       " 'eight',\n",
       " 'nine',\n",
       " 'ten',\n",
       " 'one',\n",
       " 'nine',\n",
       " 'eight',\n",
       " 'five',\n",
       " 'four',\n",
       " 'two']"
      ]
     },
     "execution_count": 273,
     "metadata": {},
     "output_type": "execute_result"
    }
   ],
   "source": [
    "lst2=str2.split()\n",
    "lst2"
   ]
  },
  {
   "cell_type": "code",
   "execution_count": 274,
   "id": "0fa72ffc",
   "metadata": {},
   "outputs": [
    {
     "data": {
      "text/plain": [
       "['two', 'three', 'eight', 'four', 'five', 'six', 'nine', 'ten', 'one', 'seven']"
      ]
     },
     "execution_count": 274,
     "metadata": {},
     "output_type": "execute_result"
    }
   ],
   "source": [
    "set2=set(lst2)\n",
    "list2=list(set2)\n",
    "list2"
   ]
  },
  {
   "cell_type": "code",
   "execution_count": 275,
   "id": "d4c4ee86",
   "metadata": {},
   "outputs": [
    {
     "data": {
      "text/plain": [
       "10"
      ]
     },
     "execution_count": 275,
     "metadata": {},
     "output_type": "execute_result"
    }
   ],
   "source": [
    "len(list2)"
   ]
  },
  {
   "cell_type": "code",
   "execution_count": 276,
   "id": "e2a1a38e",
   "metadata": {},
   "outputs": [
    {
     "name": "stdout",
     "output_type": "stream",
     "text": [
      "['one', 'two', 'three', 'four', 'five', 'six', 'seven', 'eight', 'nine', 'ten', 'one', 'nine', 'eight', 'five', 'four', 'two']\n",
      "['two', 'three', 'eight', 'four', 'five', 'six', 'nine', 'ten', 'one', 'seven']\n"
     ]
    }
   ],
   "source": [
    "print(lst2)\n",
    "print(list2)"
   ]
  },
  {
   "cell_type": "code",
   "execution_count": 277,
   "id": "7a287719",
   "metadata": {},
   "outputs": [
    {
     "name": "stdout",
     "output_type": "stream",
     "text": [
      "16\n",
      "10\n"
     ]
    }
   ],
   "source": [
    "print(len(lst2))\n",
    "print(len(list2))"
   ]
  },
  {
   "cell_type": "code",
   "execution_count": 278,
   "id": "fcfc3fed",
   "metadata": {},
   "outputs": [
    {
     "name": "stdout",
     "output_type": "stream",
     "text": [
      "0\n",
      "1\n",
      "2\n",
      "3\n",
      "4\n",
      "5\n",
      "6\n",
      "7\n",
      "8\n",
      "9\n"
     ]
    }
   ],
   "source": [
    "for i in range(len(list2)):\n",
    "    print(i)"
   ]
  },
  {
   "cell_type": "code",
   "execution_count": 279,
   "id": "a91d1700",
   "metadata": {},
   "outputs": [
    {
     "data": {
      "text/plain": [
       "False"
      ]
     },
     "execution_count": 279,
     "metadata": {},
     "output_type": "execute_result"
    }
   ],
   "source": [
    "list2[2]==lst2[2]"
   ]
  },
  {
   "cell_type": "code",
   "execution_count": 280,
   "id": "c053d875",
   "metadata": {},
   "outputs": [
    {
     "name": "stdout",
     "output_type": "stream",
     "text": [
      "['two', 'three', 'eight', 'four', 'five', 'six', 'nine', 'ten', 'one', 'seven']\n",
      "['one', 'two', 'three', 'four', 'five', 'six', 'seven', 'eight', 'nine', 'ten', 'one', 'nine', 'eight', 'five', 'four', 'two']\n"
     ]
    }
   ],
   "source": [
    "print(list2)\n",
    "print(lst2)"
   ]
  },
  {
   "cell_type": "code",
   "execution_count": 281,
   "id": "7e4094a4",
   "metadata": {},
   "outputs": [
    {
     "name": "stdout",
     "output_type": "stream",
     "text": [
      "[0, 0, 0, 0, 0, 0, 0, 0, 0, 0]\n",
      "{}\n",
      "{'two': 2, 'three': 1, 'eight': 2, 'four': 2, 'five': 2, 'six': 1, 'nine': 2, 'ten': 1, 'one': 2, 'seven': 1}\n"
     ]
    }
   ],
   "source": [
    "count1=[0]*len(list2)\n",
    "print(count1)\n",
    "mydict=dict()\n",
    "print(mydict)\n",
    "for i in range(len(list2)):                        \n",
    "    for j in range(len(lst2)): \n",
    "        if list2[i] == lst2[j]:\n",
    "            count1[i] += 1\n",
    "    mydict[list2[i]] = count1[i]\n",
    "print(mydict)"
   ]
  },
  {
   "cell_type": "markdown",
   "id": "6df8b34c",
   "metadata": {},
   "source": [
    "## operators"
   ]
  },
  {
   "cell_type": "code",
   "execution_count": 282,
   "id": "88bae65b",
   "metadata": {},
   "outputs": [],
   "source": [
    "a=20\n",
    "b=2\n",
    "x='shaik'\n",
    "y='firoz'"
   ]
  },
  {
   "cell_type": "code",
   "execution_count": 283,
   "id": "136d79fc",
   "metadata": {},
   "outputs": [
    {
     "name": "stdout",
     "output_type": "stream",
     "text": [
      "22\n",
      "addition of a(20) and b(2) is c(22)\n"
     ]
    }
   ],
   "source": [
    "c=a+b\n",
    "print(c)\n",
    "print('addition of a({}) and b({}) is c({})'.format(a,b,c))"
   ]
  },
  {
   "cell_type": "code",
   "execution_count": 284,
   "id": "c42204a3",
   "metadata": {},
   "outputs": [
    {
     "name": "stdout",
     "output_type": "stream",
     "text": [
      "shaik firoz\n"
     ]
    }
   ],
   "source": [
    "print(x+\" \"+y)"
   ]
  },
  {
   "cell_type": "code",
   "execution_count": 285,
   "id": "5fe1b329",
   "metadata": {},
   "outputs": [
    {
     "name": "stdout",
     "output_type": "stream",
     "text": [
      "22\n",
      "18\n",
      "40\n",
      "0\n",
      "10.0\n",
      "10\n",
      "400\n"
     ]
    }
   ],
   "source": [
    "print(a+b)\n",
    "print(a-b)\n",
    "print(a*b)\n",
    "print(a%b) #remainder \n",
    "print(a/b) #quotient in decimal\n",
    "print(a//b)#quoteint in integer\n",
    "print(a**b) #a to the power b"
   ]
  },
  {
   "cell_type": "code",
   "execution_count": 286,
   "id": "b5988c2e",
   "metadata": {},
   "outputs": [
    {
     "name": "stdout",
     "output_type": "stream",
     "text": [
      "Is x greater than y :-  False\n",
      "\n",
      "Is x less than y :-  True\n",
      "\n",
      "Is x equal to y :-  False\n",
      "\n",
      "Is x not equal to y :-  True\n",
      "\n",
      "Is x greater than or equal to y :-  False\n",
      "\n",
      "Is x less than or equal to y :-  True\n"
     ]
    }
   ],
   "source": [
    "x = 20\n",
    "y = 30\n",
    "print('Is x greater than y :- ',x>y)\n",
    "print('\\nIs x less than y :- ',x<y)\n",
    "print('\\nIs x equal to y :- ',x==y)\n",
    "print('\\nIs x not equal to y :- ',x!=y)\n",
    "print('\\nIs x greater than or equal to y :- ',x>=y)\n",
    "print('\\nIs x less than or equal to y :- ',x<=y)"
   ]
  },
  {
   "cell_type": "code",
   "execution_count": 287,
   "id": "0e6939c4",
   "metadata": {},
   "outputs": [
    {
     "data": {
      "text/plain": [
       "(False, False, True)"
      ]
     },
     "execution_count": 287,
     "metadata": {},
     "output_type": "execute_result"
    }
   ],
   "source": [
    "a = 'shaik'\n",
    "b = 'firoz'\n",
    "c = 'king'\n",
    "a == b , a ==c , a != b               "
   ]
  },
  {
   "cell_type": "code",
   "execution_count": 288,
   "id": "e7b6eaa8",
   "metadata": {},
   "outputs": [
    {
     "name": "stdout",
     "output_type": "stream",
     "text": [
      "Logical AND operation :-  False\n",
      "Logical OR operation :-  True\n",
      "NOT operation :-  False\n"
     ]
    }
   ],
   "source": [
    "x = True\n",
    "y = False\n",
    "print('Logical AND operation :- ',x and y)               # True if both values are true\n",
    "print('Logical OR operation :- ',x or y)                 # True if either of the values is true\n",
    "print('NOT operation :- ',not x )    "
   ]
  },
  {
   "cell_type": "code",
   "execution_count": 289,
   "id": "035d557c",
   "metadata": {},
   "outputs": [
    {
     "name": "stdout",
     "output_type": "stream",
     "text": [
      "Bitwise AND operation - 2\n",
      "Bitwise OR operation - 22\n",
      "Bitwise XOR operation - 20\n",
      "Bitwise NOT operation - -19\n",
      "Bitwise right shift operation - 4\n",
      "Bitwise left shift operation - 72\n",
      "Bitwise right shift operation - 0\n",
      "Bitwise left shift operation - 48\n",
      "Bitwise left shift operation - 36\n"
     ]
    }
   ],
   "source": [
    "x = 18                                                  # binary form 10010\n",
    "y = 6                                                   # binary form 00110\n",
    "print('Bitwise AND operation - {}'.format(x&y))\n",
    "print('Bitwise OR operation - {}'.format(x|y))\n",
    "print('Bitwise XOR operation - {}'.format(x^y))\n",
    "print('Bitwise NOT operation - {}'.format(~x))\n",
    "print('Bitwise right shift operation - {}'.format(x>>2))\n",
    "print('Bitwise left shift operation - {}'.format(x<<2))\n",
    "print('Bitwise right shift operation - {}'.format(y>>3))\n",
    "print('Bitwise left shift operation - {}'.format(y<<3))\n",
    "print('Bitwise left shift operation - {}'.format(x<<1))"
   ]
  },
  {
   "cell_type": "code",
   "execution_count": 290,
   "id": "9f658ed0",
   "metadata": {},
   "outputs": [
    {
     "data": {
      "text/plain": [
       "(False, False, True)"
      ]
     },
     "execution_count": 290,
     "metadata": {},
     "output_type": "execute_result"
    }
   ],
   "source": [
    "a='shaik'\n",
    "b='firoz'\n",
    "c='shaik'\n",
    "a==b,b==c,b!=c"
   ]
  },
  {
   "cell_type": "code",
   "execution_count": 291,
   "id": "b367863c",
   "metadata": {},
   "outputs": [
    {
     "name": "stdout",
     "output_type": "stream",
     "text": [
      "logical AND operation :- False\n",
      "logical OR operation :- True\n",
      "logical NOT operation :- True\n"
     ]
    }
   ],
   "source": [
    "x=True\n",
    "y=False\n",
    "print('logical AND operation :-',x and y)\n",
    "print('logical OR operation :-',x or y)\n",
    "print('logical NOT operation :-',not y)"
   ]
  },
  {
   "cell_type": "code",
   "execution_count": 292,
   "id": "b88936d7",
   "metadata": {},
   "outputs": [
    {
     "name": "stdout",
     "output_type": "stream",
     "text": [
      "Bitwise AND operation - 2\n",
      "Bitwise OR operation - 22\n",
      "Bitwise XOR operation - 20\n",
      "Bitwise NOT operation - -19\n",
      "Bitwise right shift operation - 4\n",
      "Bitwise left shift operation - 72\n",
      "Bitwise right shift operation - 0\n",
      "Bitwise left shift operation - 48\n",
      "Bitwise left shift operation - 36\n"
     ]
    }
   ],
   "source": [
    "x = 18                                                  # binary form 10010\n",
    "y = 6                                                   # binary form 00110\n",
    "print('Bitwise AND operation - {}'.format(x&y))\n",
    "print('Bitwise OR operation - {}'.format(x|y))\n",
    "print('Bitwise XOR operation - {}'.format(x^y))\n",
    "print('Bitwise NOT operation - {}'.format(~x))\n",
    "print('Bitwise right shift operation - {}'.format(x>>2))\n",
    "print('Bitwise left shift operation - {}'.format(x<<2))\n",
    "print('Bitwise right shift operation - {}'.format(y>>3))\n",
    "print('Bitwise left shift operation - {}'.format(y<<3))\n",
    "print('Bitwise left shift operation - {}'.format(x<<1))"
   ]
  },
  {
   "cell_type": "code",
   "execution_count": 293,
   "id": "85efa5f2",
   "metadata": {},
   "outputs": [
    {
     "name": "stdout",
     "output_type": "stream",
     "text": [
      "Initialize x with value 10 (x=10)) :-  10\n"
     ]
    }
   ],
   "source": [
    "x=10\n",
    "print('Initialize x with value 10 (x=10)) :- ',x)"
   ]
  },
  {
   "cell_type": "code",
   "execution_count": 294,
   "id": "8c50fd62",
   "metadata": {},
   "outputs": [
    {
     "name": "stdout",
     "output_type": "stream",
     "text": [
      "add 20 to x after adding then x :- 30\n"
     ]
    }
   ],
   "source": [
    "x+=20\n",
    "print('add 20 to x after adding then x :-',x)"
   ]
  },
  {
   "cell_type": "code",
   "execution_count": 295,
   "id": "daf09171",
   "metadata": {},
   "outputs": [
    {
     "name": "stdout",
     "output_type": "stream",
     "text": [
      "subtract 10 in x 20\n"
     ]
    }
   ],
   "source": [
    "x-=10\n",
    "print('subtract 10 in x',x)"
   ]
  },
  {
   "cell_type": "code",
   "execution_count": 296,
   "id": "fe46b961",
   "metadata": {},
   "outputs": [
    {
     "name": "stdout",
     "output_type": "stream",
     "text": [
      "divide 10 to x 2.0\n"
     ]
    }
   ],
   "source": [
    "x/=10\n",
    "print('divide 10 to x',x)"
   ]
  },
  {
   "cell_type": "code",
   "execution_count": 297,
   "id": "1b58cf54",
   "metadata": {},
   "outputs": [
    {
     "name": "stdout",
     "output_type": "stream",
     "text": [
      "multiply 10 to x 20.0\n"
     ]
    }
   ],
   "source": [
    "x*=10\n",
    "print('multiply 10 to x',x)"
   ]
  },
  {
   "cell_type": "code",
   "execution_count": 298,
   "id": "4d00e927",
   "metadata": {},
   "outputs": [
    {
     "data": {
      "text/plain": [
       "20"
      ]
     },
     "execution_count": 298,
     "metadata": {},
     "output_type": "execute_result"
    }
   ],
   "source": [
    "x=int(x)\n",
    "x"
   ]
  },
  {
   "cell_type": "code",
   "execution_count": 299,
   "id": "426dfec2",
   "metadata": {},
   "outputs": [
    {
     "name": "stdout",
     "output_type": "stream",
     "text": [
      "x power to 2 which is added to x:-  400\n"
     ]
    }
   ],
   "source": [
    "x**=2\n",
    "print('x power to 2 which is added to x:- ',x)"
   ]
  },
  {
   "cell_type": "code",
   "execution_count": 300,
   "id": "06316674",
   "metadata": {},
   "outputs": [
    {
     "name": "stdout",
     "output_type": "stream",
     "text": [
      "modulo division 0\n"
     ]
    }
   ],
   "source": [
    "x%=2\n",
    "print('modulo division',x)"
   ]
  },
  {
   "cell_type": "code",
   "execution_count": 301,
   "id": "b7ecd07c",
   "metadata": {},
   "outputs": [
    {
     "name": "stdout",
     "output_type": "stream",
     "text": [
      "Floor Division :-  6\n"
     ]
    }
   ],
   "source": [
    "x = 20\n",
    "x//=3\n",
    "print ('Floor Division :- ',x)"
   ]
  },
  {
   "cell_type": "code",
   "execution_count": 302,
   "id": "fde24c1a",
   "metadata": {},
   "outputs": [
    {
     "name": "stdout",
     "output_type": "stream",
     "text": [
      "Bitwise AND :-  0\n"
     ]
    }
   ],
   "source": [
    "x=20\n",
    "x&=2\n",
    "print('Bitwise AND :- ',x)"
   ]
  },
  {
   "cell_type": "code",
   "execution_count": 303,
   "id": "538a77da",
   "metadata": {},
   "outputs": [
    {
     "name": "stdout",
     "output_type": "stream",
     "text": [
      "Bitwise OR :-  22\n"
     ]
    }
   ],
   "source": [
    "x=20\n",
    "x|=2\n",
    "print('Bitwise OR :- ',x)"
   ]
  },
  {
   "cell_type": "code",
   "execution_count": 304,
   "id": "8d85f7bd",
   "metadata": {},
   "outputs": [
    {
     "name": "stdout",
     "output_type": "stream",
     "text": [
      "Bitwise XOR :-  22\n"
     ]
    }
   ],
   "source": [
    "x=20\n",
    "x^=2\n",
    "print('Bitwise XOR :- ',x)"
   ]
  },
  {
   "cell_type": "code",
   "execution_count": 305,
   "id": "55ea53c8",
   "metadata": {},
   "outputs": [
    {
     "name": "stdout",
     "output_type": "stream",
     "text": [
      "Bitwise left shift operation 40\n"
     ]
    }
   ],
   "source": [
    "x = 10\n",
    "x<<=2\n",
    "print('Bitwise left shift operation',x)"
   ]
  },
  {
   "cell_type": "code",
   "execution_count": 306,
   "id": "ad6cc954",
   "metadata": {},
   "outputs": [
    {
     "name": "stdout",
     "output_type": "stream",
     "text": [
      "bitwise right shift operation 2\n"
     ]
    }
   ],
   "source": [
    "x=10\n",
    "x>>=2\n",
    "print('bitwise right shift operation',x)"
   ]
  },
  {
   "cell_type": "code",
   "execution_count": 307,
   "id": "b77710ed",
   "metadata": {},
   "outputs": [
    {
     "data": {
      "text/plain": [
       "(True, False)"
      ]
     },
     "execution_count": 307,
     "metadata": {},
     "output_type": "execute_result"
    }
   ],
   "source": [
    "str1='shaik firoz 01'\n",
    "('firoz' in str1),('liger' in str1)"
   ]
  },
  {
   "cell_type": "code",
   "execution_count": 308,
   "id": "570c6407",
   "metadata": {},
   "outputs": [
    {
     "data": {
      "text/plain": [
       "(False, True)"
      ]
     },
     "execution_count": 308,
     "metadata": {},
     "output_type": "execute_result"
    }
   ],
   "source": [
    "str2='shaik firoz king'\n",
    "'firoz' not in str2 , 'yaseen' not in str2"
   ]
  }
 ],
 "metadata": {
  "kernelspec": {
   "display_name": "Python 3 (ipykernel)",
   "language": "python",
   "name": "python3"
  },
  "language_info": {
   "codemirror_mode": {
    "name": "ipython",
    "version": 3
   },
   "file_extension": ".py",
   "mimetype": "text/x-python",
   "name": "python",
   "nbconvert_exporter": "python",
   "pygments_lexer": "ipython3",
   "version": "3.10.9"
  }
 },
 "nbformat": 4,
 "nbformat_minor": 5
}
